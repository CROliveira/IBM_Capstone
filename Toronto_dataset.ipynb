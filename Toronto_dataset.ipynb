{
 "cells": [
  {
   "cell_type": "markdown",
   "metadata": {
    "toc": true
   },
   "source": [
    "<h1>Table of Contents<span class=\"tocSkip\"></span></h1>\n",
    "<div class=\"toc\"><ul class=\"toc-item\"></ul></div>"
   ]
  },
  {
   "cell_type": "markdown",
   "metadata": {},
   "source": [
    "This notebook is mainly used for the IBM Data Science Capstone Project\n"
   ]
  },
  {
   "cell_type": "code",
   "execution_count": 1,
   "metadata": {
    "ExecuteTime": {
     "end_time": "2020-05-06T21:24:54.632552Z",
     "start_time": "2020-05-06T21:24:52.112563Z"
    }
   },
   "outputs": [],
   "source": [
    "# Importing the necessary libraries\n",
    "from bs4 import BeautifulSoup\n",
    "import requests\n",
    "import numpy as np\n",
    "import pandas as pd"
   ]
  },
  {
   "cell_type": "code",
   "execution_count": 2,
   "metadata": {
    "ExecuteTime": {
     "end_time": "2020-05-06T21:24:54.979845Z",
     "start_time": "2020-05-06T21:24:54.645586Z"
    }
   },
   "outputs": [],
   "source": [
    "# Importing the Wikipedia page using request\n",
    "url = 'https://en.wikipedia.org/wiki/List_of_postal_codes_of_Canada:_M'\n",
    "data = requests.get(url)"
   ]
  },
  {
   "cell_type": "code",
   "execution_count": 3,
   "metadata": {
    "ExecuteTime": {
     "end_time": "2020-05-06T21:24:55.075878Z",
     "start_time": "2020-05-06T21:24:54.986434Z"
    }
   },
   "outputs": [],
   "source": [
    "# Extracting the Table using BeautifulSoup\n",
    "bs = BeautifulSoup(data.content, 'html.parser')\n",
    "table = bs.find('table')\n",
    "tr = table.find_all('tr')\n",
    "rows = []\n",
    "for j in tr:\n",
    "    i = j.find_all('td')\n",
    "    if i:\n",
    "        rows.append(i)\n",
    "        \n",
    "nb_list = [] # list of neighborhood\n",
    "for row in rows:\n",
    "    pc = row[0].text.rstrip() # postal code\n",
    "    borough = row[1].text.rstrip()\n",
    "    nb = row[2].text.rstrip()\n",
    "    \n",
    "    # In case the neighborhood is not assigned\n",
    "    if borough != 'Not assigned':\n",
    "        if nb == 'Not assigned':\n",
    "            nb = borough\n",
    "        nb_list.append([pc, borough, nb])"
   ]
  },
  {
   "cell_type": "code",
   "execution_count": 4,
   "metadata": {
    "ExecuteTime": {
     "end_time": "2020-05-06T21:24:55.140811Z",
     "start_time": "2020-05-06T21:24:55.079594Z"
    }
   },
   "outputs": [
    {
     "data": {
      "text/html": [
       "<div>\n",
       "<style scoped>\n",
       "    .dataframe tbody tr th:only-of-type {\n",
       "        vertical-align: middle;\n",
       "    }\n",
       "\n",
       "    .dataframe tbody tr th {\n",
       "        vertical-align: top;\n",
       "    }\n",
       "\n",
       "    .dataframe thead th {\n",
       "        text-align: right;\n",
       "    }\n",
       "</style>\n",
       "<table border=\"1\" class=\"dataframe\">\n",
       "  <thead>\n",
       "    <tr style=\"text-align: right;\">\n",
       "      <th></th>\n",
       "      <th>Postal Code</th>\n",
       "      <th>Borough</th>\n",
       "      <th>Neighborhood</th>\n",
       "    </tr>\n",
       "  </thead>\n",
       "  <tbody>\n",
       "    <tr>\n",
       "      <th>0</th>\n",
       "      <td>M1B</td>\n",
       "      <td>Scarborough</td>\n",
       "      <td>Malvern / Rouge</td>\n",
       "    </tr>\n",
       "    <tr>\n",
       "      <th>1</th>\n",
       "      <td>M1C</td>\n",
       "      <td>Scarborough</td>\n",
       "      <td>Rouge Hill / Port Union / Highland Creek</td>\n",
       "    </tr>\n",
       "    <tr>\n",
       "      <th>2</th>\n",
       "      <td>M1E</td>\n",
       "      <td>Scarborough</td>\n",
       "      <td>Guildwood / Morningside / West Hill</td>\n",
       "    </tr>\n",
       "    <tr>\n",
       "      <th>3</th>\n",
       "      <td>M1G</td>\n",
       "      <td>Scarborough</td>\n",
       "      <td>Woburn</td>\n",
       "    </tr>\n",
       "    <tr>\n",
       "      <th>4</th>\n",
       "      <td>M1H</td>\n",
       "      <td>Scarborough</td>\n",
       "      <td>Cedarbrae</td>\n",
       "    </tr>\n",
       "    <tr>\n",
       "      <th>5</th>\n",
       "      <td>M1J</td>\n",
       "      <td>Scarborough</td>\n",
       "      <td>Scarborough Village</td>\n",
       "    </tr>\n",
       "    <tr>\n",
       "      <th>6</th>\n",
       "      <td>M1K</td>\n",
       "      <td>Scarborough</td>\n",
       "      <td>Kennedy Park / Ionview / East Birchmount Park</td>\n",
       "    </tr>\n",
       "    <tr>\n",
       "      <th>7</th>\n",
       "      <td>M1L</td>\n",
       "      <td>Scarborough</td>\n",
       "      <td>Golden Mile / Clairlea / Oakridge</td>\n",
       "    </tr>\n",
       "    <tr>\n",
       "      <th>8</th>\n",
       "      <td>M1M</td>\n",
       "      <td>Scarborough</td>\n",
       "      <td>Cliffside / Cliffcrest / Scarborough Village West</td>\n",
       "    </tr>\n",
       "    <tr>\n",
       "      <th>9</th>\n",
       "      <td>M1N</td>\n",
       "      <td>Scarborough</td>\n",
       "      <td>Birch Cliff / Cliffside West</td>\n",
       "    </tr>\n",
       "    <tr>\n",
       "      <th>10</th>\n",
       "      <td>M1P</td>\n",
       "      <td>Scarborough</td>\n",
       "      <td>Dorset Park / Wexford Heights / Scarborough To...</td>\n",
       "    </tr>\n",
       "    <tr>\n",
       "      <th>11</th>\n",
       "      <td>M1R</td>\n",
       "      <td>Scarborough</td>\n",
       "      <td>Wexford / Maryvale</td>\n",
       "    </tr>\n",
       "    <tr>\n",
       "      <th>12</th>\n",
       "      <td>M1S</td>\n",
       "      <td>Scarborough</td>\n",
       "      <td>Agincourt</td>\n",
       "    </tr>\n",
       "    <tr>\n",
       "      <th>13</th>\n",
       "      <td>M1T</td>\n",
       "      <td>Scarborough</td>\n",
       "      <td>Clarks Corners / Tam O'Shanter / Sullivan</td>\n",
       "    </tr>\n",
       "    <tr>\n",
       "      <th>14</th>\n",
       "      <td>M1V</td>\n",
       "      <td>Scarborough</td>\n",
       "      <td>Milliken / Agincourt North / Steeles East / L'...</td>\n",
       "    </tr>\n",
       "    <tr>\n",
       "      <th>15</th>\n",
       "      <td>M1W</td>\n",
       "      <td>Scarborough</td>\n",
       "      <td>Steeles West / L'Amoreaux West</td>\n",
       "    </tr>\n",
       "    <tr>\n",
       "      <th>16</th>\n",
       "      <td>M1X</td>\n",
       "      <td>Scarborough</td>\n",
       "      <td>Upper Rouge</td>\n",
       "    </tr>\n",
       "    <tr>\n",
       "      <th>17</th>\n",
       "      <td>M2H</td>\n",
       "      <td>North York</td>\n",
       "      <td>Hillcrest Village</td>\n",
       "    </tr>\n",
       "    <tr>\n",
       "      <th>18</th>\n",
       "      <td>M2J</td>\n",
       "      <td>North York</td>\n",
       "      <td>Fairview / Henry Farm / Oriole</td>\n",
       "    </tr>\n",
       "    <tr>\n",
       "      <th>19</th>\n",
       "      <td>M2K</td>\n",
       "      <td>North York</td>\n",
       "      <td>Bayview Village</td>\n",
       "    </tr>\n",
       "  </tbody>\n",
       "</table>\n",
       "</div>"
      ],
      "text/plain": [
       "   Postal Code      Borough                                       Neighborhood\n",
       "0          M1B  Scarborough                                    Malvern / Rouge\n",
       "1          M1C  Scarborough           Rouge Hill / Port Union / Highland Creek\n",
       "2          M1E  Scarborough                Guildwood / Morningside / West Hill\n",
       "3          M1G  Scarborough                                             Woburn\n",
       "4          M1H  Scarborough                                          Cedarbrae\n",
       "5          M1J  Scarborough                                Scarborough Village\n",
       "6          M1K  Scarborough      Kennedy Park / Ionview / East Birchmount Park\n",
       "7          M1L  Scarborough                  Golden Mile / Clairlea / Oakridge\n",
       "8          M1M  Scarborough  Cliffside / Cliffcrest / Scarborough Village West\n",
       "9          M1N  Scarborough                       Birch Cliff / Cliffside West\n",
       "10         M1P  Scarborough  Dorset Park / Wexford Heights / Scarborough To...\n",
       "11         M1R  Scarborough                                 Wexford / Maryvale\n",
       "12         M1S  Scarborough                                          Agincourt\n",
       "13         M1T  Scarborough          Clarks Corners / Tam O'Shanter / Sullivan\n",
       "14         M1V  Scarborough  Milliken / Agincourt North / Steeles East / L'...\n",
       "15         M1W  Scarborough                     Steeles West / L'Amoreaux West\n",
       "16         M1X  Scarborough                                        Upper Rouge\n",
       "17         M2H   North York                                  Hillcrest Village\n",
       "18         M2J   North York                     Fairview / Henry Farm / Oriole\n",
       "19         M2K   North York                                    Bayview Village"
      ]
     },
     "execution_count": 4,
     "metadata": {},
     "output_type": "execute_result"
    }
   ],
   "source": [
    "# Converting into a Pandas Dataframe\n",
    "columns = ['Postal Code', 'Borough', 'Neighborhood']\n",
    "dataset = pd.DataFrame(nb_list, columns=columns)\n",
    "dataset = dataset.groupby('Postal Code').agg(\n",
    "    {\n",
    "        'Borough':'first', \n",
    "        'Neighborhood': ', '.join,}\n",
    "    ).reset_index()\n",
    "dataset.head(20)"
   ]
  },
  {
   "cell_type": "code",
   "execution_count": 5,
   "metadata": {
    "ExecuteTime": {
     "end_time": "2020-05-06T21:25:38.742845Z",
     "start_time": "2020-05-06T21:25:38.735190Z"
    }
   },
   "outputs": [
    {
     "name": "stdout",
     "output_type": "stream",
     "text": [
      "Toronto data's shape is:  (103, 3)\n"
     ]
    }
   ],
   "source": [
    "# Checking the Shape of the Dataframe\n",
    "print(\"Toronto data's shape is: \", dataset.shape)"
   ]
  },
  {
   "cell_type": "code",
   "execution_count": null,
   "metadata": {},
   "outputs": [],
   "source": []
  },
  {
   "cell_type": "code",
   "execution_count": null,
   "metadata": {},
   "outputs": [],
   "source": []
  },
  {
   "cell_type": "code",
   "execution_count": null,
   "metadata": {},
   "outputs": [],
   "source": []
  },
  {
   "cell_type": "code",
   "execution_count": null,
   "metadata": {},
   "outputs": [],
   "source": []
  },
  {
   "cell_type": "code",
   "execution_count": null,
   "metadata": {},
   "outputs": [],
   "source": []
  }
 ],
 "metadata": {
  "kernelspec": {
   "display_name": "Python 3",
   "language": "python",
   "name": "python3"
  },
  "language_info": {
   "codemirror_mode": {
    "name": "ipython",
    "version": 3
   },
   "file_extension": ".py",
   "mimetype": "text/x-python",
   "name": "python",
   "nbconvert_exporter": "python",
   "pygments_lexer": "ipython3",
   "version": "3.7.3"
  },
  "latex_envs": {
   "LaTeX_envs_menu_present": true,
   "autoclose": false,
   "autocomplete": true,
   "bibliofile": "biblio.bib",
   "cite_by": "apalike",
   "current_citInitial": 1,
   "eqLabelWithNumbers": true,
   "eqNumInitial": 1,
   "hotkeys": {
    "equation": "Ctrl-E",
    "itemize": "Ctrl-I"
   },
   "labels_anchors": false,
   "latex_user_defs": false,
   "report_style_numbering": false,
   "user_envs_cfg": false
  },
  "toc": {
   "base_numbering": 1,
   "nav_menu": {},
   "number_sections": true,
   "sideBar": true,
   "skip_h1_title": false,
   "title_cell": "Table of Contents",
   "title_sidebar": "Contents",
   "toc_cell": true,
   "toc_position": {},
   "toc_section_display": true,
   "toc_window_display": false
  }
 },
 "nbformat": 4,
 "nbformat_minor": 2
}
