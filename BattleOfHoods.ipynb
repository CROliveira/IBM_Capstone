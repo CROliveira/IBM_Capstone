{
 "cells": [
  {
   "cell_type": "markdown",
   "metadata": {
    "toc": true
   },
   "source": [
    "<h1>Table of Contents<span class=\"tocSkip\"></span></h1>\n",
    "<div class=\"toc\"><ul class=\"toc-item\"><li><span><a href=\"#The-Battle-of-Neighborhoods\" data-toc-modified-id=\"The-Battle-of-Neighborhoods-1\"><span class=\"toc-item-num\">1&nbsp;&nbsp;</span>The Battle of Neighborhoods</a></span></li></ul></div>"
   ]
  },
  {
   "cell_type": "markdown",
   "metadata": {},
   "source": [
    "# The Battle of Neighborhoods\n",
    "\n",
    "\n",
    "<b/>Aim: </b>\n",
    "\n",
    "This project is aimed to make your travel experience to Las Vegas Simple by Providing all nearby locations of nightlife fun spots with help of Foursquare datasets.\n",
    "\n",
    "Problem Statement Many people come to Las Vegas each day and experience difficulty in choosing between the best and the not so known night out places. Here I and other foursquare users would try and help them with their tips and ratings for each place and help people enjoy most of their time rather fear losing something in the fake casinos\n",
    "\n",
    "<b/>Objectives: </b>\n",
    "1. the geojson data for Las Vegas's neighborhood is required. \n",
    "2. Then, analyzing the data using the Foursquare API. \n",
    "3. Use clustering to identify each area and its category. \n",
    "\n",
    "Data Source we are going to use is from Foursquare. Foursquare is a technology company that uses location intelligence to build meaningful consumer experiences and business solutions. So We are going to build a project with the help of Foursquare location data, Foursquare API provides great amount of quality data’s about locations e.g.: cafe, restaurant, etc.\n",
    "\n",
    "Using this data will allow tourists to easily decide where to go when they are in a specific city. Using techniques such as K-means clustering, I was able to get results about common venues in city. \n",
    "\n",
    "This information can be really helpful to tourists since they can focus on what they are trying to experience most during their Travel such as food, culture, sport, etc.\n",
    "\n",
    "These techniques also provides the visualization of clustering of city. K-means clustering is a method of vector quantization, originally from signal processing, that is popular for cluster analysis in data mining. k-means clustering aims to partition n observations into k clusters in which each observation belongs to the cluster with the nearest mean, serving as a prototype of the cluster. \n",
    "\n",
    "This results in a partitioning of the data space into Voronoi cells.\n",
    "\n",
    "<b/>Conclusion: </b>\n",
    "\n",
    "\n",
    "So using Foursqaure data set I have successfully created a way to know all the location information handy, information such as casinos,cafes and hotels, venues are easily accessible using data science methodology."
   ]
  },
  {
   "cell_type": "code",
   "execution_count": 1,
   "metadata": {
    "ExecuteTime": {
     "end_time": "2020-05-08T04:12:35.064838Z",
     "start_time": "2020-05-08T04:11:40.410618Z"
    }
   },
   "outputs": [
    {
     "name": "stdout",
     "output_type": "stream",
     "text": [
      "Collecting package metadata (current_repodata.json): done\n",
      "Solving environment: done\n",
      "\n",
      "# All requested packages already installed.\n",
      "\n",
      "Collecting package metadata (current_repodata.json): done\n",
      "Solving environment: done\n",
      "\n",
      "# All requested packages already installed.\n",
      "\n",
      "Requirement already satisfied: folium in /Users/speedy/anaconda3/lib/python3.7/site-packages (0.5.0)\n",
      "Requirement already satisfied: branca in /Users/speedy/anaconda3/lib/python3.7/site-packages (from folium) (0.4.0)\n",
      "Requirement already satisfied: jinja2 in /Users/speedy/anaconda3/lib/python3.7/site-packages (from folium) (2.10.1)\n",
      "Requirement already satisfied: requests in /Users/speedy/anaconda3/lib/python3.7/site-packages (from folium) (2.22.0)\n",
      "Requirement already satisfied: six in /Users/speedy/anaconda3/lib/python3.7/site-packages (from folium) (1.12.0)\n",
      "Requirement already satisfied: MarkupSafe>=0.23 in /Users/speedy/anaconda3/lib/python3.7/site-packages (from jinja2->folium) (1.1.1)\n",
      "Requirement already satisfied: certifi>=2017.4.17 in /Users/speedy/anaconda3/lib/python3.7/site-packages (from requests->folium) (2020.4.5.1)\n",
      "Requirement already satisfied: chardet<3.1.0,>=3.0.2 in /Users/speedy/anaconda3/lib/python3.7/site-packages (from requests->folium) (3.0.4)\n",
      "Requirement already satisfied: idna<2.9,>=2.5 in /Users/speedy/anaconda3/lib/python3.7/site-packages (from requests->folium) (2.7)\n",
      "Requirement already satisfied: urllib3!=1.25.0,!=1.25.1,<1.26,>=1.21.1 in /Users/speedy/anaconda3/lib/python3.7/site-packages (from requests->folium) (1.24.2)\n",
      "All libraries installed and imported ! \n"
     ]
    }
   ],
   "source": [
    "!conda install -c conda-forge geopy --yes \n",
    "from geopy.geocoders import Nominatim # module to convert an address into latitude and longitude values\n",
    "import requests # library to handle requests\n",
    "import pandas as pd # library for data analsysis\n",
    "import numpy as np # library to handle data in a vectorized manner\n",
    "import random # library for random number generation\n",
    "\n",
    "# libraries for displaying images\n",
    "from IPython.display import Image \n",
    "from IPython.core.display import HTML \n",
    "    \n",
    "# tranforming json file into a pandas dataframe library\n",
    "from pandas.io.json import json_normalize\n",
    "\n",
    "!conda install -c conda-forge folium=0.5.0 --yes\n",
    "import folium # plotting library\n",
    "!pip install folium\n",
    "import requests\n",
    "from bs4 import BeautifulSoup\n",
    "import lxml\n",
    "import pandas as pd\n",
    "pd.set_option('display.max_columns', None)\n",
    "pd.set_option('display.max_rows', None)\n",
    "import numpy as np\n",
    "import json\n",
    "from geopy.geocoders import Nominatim\n",
    "from pandas.io.json import json_normalize # tranform JSON file into a pandas dataframev\n",
    "import matplotlib.cm as cm\n",
    "import matplotlib.colors as colors\n",
    "from sklearn.cluster import KMeans\n",
    "import folium\n",
    "print(\"All libraries installed and imported ! \")"
   ]
  },
  {
   "cell_type": "code",
   "execution_count": 2,
   "metadata": {
    "ExecuteTime": {
     "end_time": "2020-05-08T04:12:35.081868Z",
     "start_time": "2020-05-08T04:12:35.071096Z"
    }
   },
   "outputs": [
    {
     "name": "stdout",
     "output_type": "stream",
     "text": [
      "My credentails:\n",
      "CLIENT_ID:  JBQ2RPE4X3RM5RH4PVELZXMFLMSPSX2FXJLH2I5WTMU1MK4Y\n",
      "CLIENT_SECRET:  VYWU51QOA32QZBWXFZICTNWZOGEPAKMHFHM3PHR1FDVCRM4I\n"
     ]
    }
   ],
   "source": [
    "# @hidden_cell\n",
    "CLIENT_ID = \"JBQ2RPE4X3RM5RH4PVELZXMFLMSPSX2FXJLH2I5WTMU1MK4Y\" \n",
    "CLIENT_SECRET = \"VYWU51QOA32QZBWXFZICTNWZOGEPAKMHFHM3PHR1FDVCRM4I\" \n",
    "VERSION = '20180605'\n",
    "LIMIT = 30\n",
    "print('My credentails:')\n",
    "print('CLIENT_ID: ', CLIENT_ID)\n",
    "print('CLIENT_SECRET: ', CLIENT_SECRET)\n"
   ]
  },
  {
   "cell_type": "code",
   "execution_count": 3,
   "metadata": {
    "ExecuteTime": {
     "end_time": "2020-05-08T04:12:35.118678Z",
     "start_time": "2020-05-08T04:12:35.113114Z"
    }
   },
   "outputs": [],
   "source": [
    "lat=36.1699\n",
    "long=-115.1398\n",
    "radius=500"
   ]
  },
  {
   "cell_type": "code",
   "execution_count": 4,
   "metadata": {
    "ExecuteTime": {
     "end_time": "2020-05-08T04:12:35.165658Z",
     "start_time": "2020-05-08T04:12:35.126595Z"
    }
   },
   "outputs": [
    {
     "data": {
      "text/plain": [
       "'https://api.foursquare.com/v2/venues/search?client_id=JBQ2RPE4X3RM5RH4PVELZXMFLMSPSX2FXJLH2I5WTMU1MK4Y&client_secret=VYWU51QOA32QZBWXFZICTNWZOGEPAKMHFHM3PHR1FDVCRM4I&ll=36.1699,-115.1398&v=20180605&query=casino&radius=500&limit=30'"
      ]
     },
     "execution_count": 4,
     "metadata": {},
     "output_type": "execute_result"
    }
   ],
   "source": [
    "url = 'https://api.foursquare.com/v2/venues/search?client_id={}&client_secret={}&ll={},{}&v={}&query=casino&radius={}&limit={}'.format(CLIENT_ID, CLIENT_SECRET, lat, long, VERSION, radius, LIMIT)\n",
    "url"
   ]
  },
  {
   "cell_type": "code",
   "execution_count": 5,
   "metadata": {
    "ExecuteTime": {
     "end_time": "2020-05-08T04:12:35.699217Z",
     "start_time": "2020-05-08T04:12:35.179503Z"
    }
   },
   "outputs": [],
   "source": [
    "\n",
    "results = requests.get(url).json()\n",
    "# results"
   ]
  },
  {
   "cell_type": "code",
   "execution_count": 6,
   "metadata": {
    "ExecuteTime": {
     "end_time": "2020-05-08T04:12:35.757514Z",
     "start_time": "2020-05-08T04:12:35.704568Z"
    }
   },
   "outputs": [
    {
     "name": "stderr",
     "output_type": "stream",
     "text": [
      "/Users/speedy/anaconda3/lib/python3.7/site-packages/ipykernel_launcher.py:4: FutureWarning: pandas.io.json.json_normalize is deprecated, use pandas.json_normalize instead\n",
      "  after removing the cwd from sys.path.\n"
     ]
    },
    {
     "data": {
      "text/html": [
       "<div>\n",
       "<style scoped>\n",
       "    .dataframe tbody tr th:only-of-type {\n",
       "        vertical-align: middle;\n",
       "    }\n",
       "\n",
       "    .dataframe tbody tr th {\n",
       "        vertical-align: top;\n",
       "    }\n",
       "\n",
       "    .dataframe thead th {\n",
       "        text-align: right;\n",
       "    }\n",
       "</style>\n",
       "<table border=\"1\" class=\"dataframe\">\n",
       "  <thead>\n",
       "    <tr style=\"text-align: right;\">\n",
       "      <th></th>\n",
       "      <th>id</th>\n",
       "      <th>name</th>\n",
       "      <th>categories</th>\n",
       "      <th>referralId</th>\n",
       "      <th>hasPerk</th>\n",
       "      <th>location.address</th>\n",
       "      <th>location.crossStreet</th>\n",
       "      <th>location.lat</th>\n",
       "      <th>location.lng</th>\n",
       "      <th>location.labeledLatLngs</th>\n",
       "      <th>location.distance</th>\n",
       "      <th>location.postalCode</th>\n",
       "      <th>location.cc</th>\n",
       "      <th>location.city</th>\n",
       "      <th>location.state</th>\n",
       "      <th>location.country</th>\n",
       "      <th>location.formattedAddress</th>\n",
       "      <th>venuePage.id</th>\n",
       "      <th>location.neighborhood</th>\n",
       "    </tr>\n",
       "  </thead>\n",
       "  <tbody>\n",
       "    <tr>\n",
       "      <th>0</th>\n",
       "      <td>4a431d92f964a5207ca61fe3</td>\n",
       "      <td>Fremont Hotel &amp; Casino</td>\n",
       "      <td>[{'id': '4bf58dd8d48988d17c941735', 'name': 'C...</td>\n",
       "      <td>v-1588911155</td>\n",
       "      <td>False</td>\n",
       "      <td>200 Fremont St</td>\n",
       "      <td>btwn N Casino Center Blvd &amp; N 3rd St</td>\n",
       "      <td>36.171017</td>\n",
       "      <td>-115.143444</td>\n",
       "      <td>[{'label': 'display', 'lat': 36.1710168, 'lng'...</td>\n",
       "      <td>350</td>\n",
       "      <td>89101</td>\n",
       "      <td>US</td>\n",
       "      <td>Las Vegas</td>\n",
       "      <td>NV</td>\n",
       "      <td>United States</td>\n",
       "      <td>[200 Fremont St (btwn N Casino Center Blvd &amp; N...</td>\n",
       "      <td>NaN</td>\n",
       "      <td>NaN</td>\n",
       "    </tr>\n",
       "    <tr>\n",
       "      <th>1</th>\n",
       "      <td>49de9a88f964a52089601fe3</td>\n",
       "      <td>The D Las Vegas Casino Hotel</td>\n",
       "      <td>[{'id': '4bf58dd8d48988d17c941735', 'name': 'C...</td>\n",
       "      <td>v-1588911155</td>\n",
       "      <td>False</td>\n",
       "      <td>301 Fremont St</td>\n",
       "      <td>NaN</td>\n",
       "      <td>36.169655</td>\n",
       "      <td>-115.142732</td>\n",
       "      <td>NaN</td>\n",
       "      <td>264</td>\n",
       "      <td>89101</td>\n",
       "      <td>US</td>\n",
       "      <td>Las Vegas</td>\n",
       "      <td>NV</td>\n",
       "      <td>United States</td>\n",
       "      <td>[301 Fremont St, Las Vegas, NV 89101, United S...</td>\n",
       "      <td>52849190</td>\n",
       "      <td>NaN</td>\n",
       "    </tr>\n",
       "  </tbody>\n",
       "</table>\n",
       "</div>"
      ],
      "text/plain": [
       "                         id                          name  \\\n",
       "0  4a431d92f964a5207ca61fe3        Fremont Hotel & Casino   \n",
       "1  49de9a88f964a52089601fe3  The D Las Vegas Casino Hotel   \n",
       "\n",
       "                                          categories    referralId  hasPerk  \\\n",
       "0  [{'id': '4bf58dd8d48988d17c941735', 'name': 'C...  v-1588911155    False   \n",
       "1  [{'id': '4bf58dd8d48988d17c941735', 'name': 'C...  v-1588911155    False   \n",
       "\n",
       "  location.address                  location.crossStreet  location.lat  \\\n",
       "0   200 Fremont St  btwn N Casino Center Blvd & N 3rd St     36.171017   \n",
       "1   301 Fremont St                                   NaN     36.169655   \n",
       "\n",
       "   location.lng                            location.labeledLatLngs  \\\n",
       "0   -115.143444  [{'label': 'display', 'lat': 36.1710168, 'lng'...   \n",
       "1   -115.142732                                                NaN   \n",
       "\n",
       "   location.distance location.postalCode location.cc location.city  \\\n",
       "0                350               89101          US     Las Vegas   \n",
       "1                264               89101          US     Las Vegas   \n",
       "\n",
       "  location.state location.country  \\\n",
       "0             NV    United States   \n",
       "1             NV    United States   \n",
       "\n",
       "                           location.formattedAddress venuePage.id  \\\n",
       "0  [200 Fremont St (btwn N Casino Center Blvd & N...          NaN   \n",
       "1  [301 Fremont St, Las Vegas, NV 89101, United S...     52849190   \n",
       "\n",
       "  location.neighborhood  \n",
       "0                   NaN  \n",
       "1                   NaN  "
      ]
     },
     "execution_count": 6,
     "metadata": {},
     "output_type": "execute_result"
    }
   ],
   "source": [
    "venues = results['response']['venues']\n",
    "\n",
    "# tranform venues into a dataframe\n",
    "dataframe = json_normalize(venues)\n",
    "dataframe.head(2)"
   ]
  },
  {
   "cell_type": "code",
   "execution_count": 7,
   "metadata": {
    "ExecuteTime": {
     "end_time": "2020-05-08T04:12:35.814939Z",
     "start_time": "2020-05-08T04:12:35.761698Z"
    }
   },
   "outputs": [
    {
     "data": {
      "text/html": [
       "<div>\n",
       "<style scoped>\n",
       "    .dataframe tbody tr th:only-of-type {\n",
       "        vertical-align: middle;\n",
       "    }\n",
       "\n",
       "    .dataframe tbody tr th {\n",
       "        vertical-align: top;\n",
       "    }\n",
       "\n",
       "    .dataframe thead th {\n",
       "        text-align: right;\n",
       "    }\n",
       "</style>\n",
       "<table border=\"1\" class=\"dataframe\">\n",
       "  <thead>\n",
       "    <tr style=\"text-align: right;\">\n",
       "      <th></th>\n",
       "      <th>name</th>\n",
       "      <th>categories</th>\n",
       "      <th>address</th>\n",
       "      <th>crossStreet</th>\n",
       "      <th>lat</th>\n",
       "      <th>lng</th>\n",
       "      <th>labeledLatLngs</th>\n",
       "      <th>distance</th>\n",
       "      <th>postalCode</th>\n",
       "      <th>cc</th>\n",
       "      <th>city</th>\n",
       "      <th>state</th>\n",
       "      <th>country</th>\n",
       "      <th>formattedAddress</th>\n",
       "      <th>neighborhood</th>\n",
       "      <th>id</th>\n",
       "    </tr>\n",
       "  </thead>\n",
       "  <tbody>\n",
       "    <tr>\n",
       "      <th>0</th>\n",
       "      <td>Fremont Hotel &amp; Casino</td>\n",
       "      <td>Casino</td>\n",
       "      <td>200 Fremont St</td>\n",
       "      <td>btwn N Casino Center Blvd &amp; N 3rd St</td>\n",
       "      <td>36.171017</td>\n",
       "      <td>-115.143444</td>\n",
       "      <td>[{'label': 'display', 'lat': 36.1710168, 'lng'...</td>\n",
       "      <td>350</td>\n",
       "      <td>89101</td>\n",
       "      <td>US</td>\n",
       "      <td>Las Vegas</td>\n",
       "      <td>NV</td>\n",
       "      <td>United States</td>\n",
       "      <td>[200 Fremont St (btwn N Casino Center Blvd &amp; N...</td>\n",
       "      <td>NaN</td>\n",
       "      <td>4a431d92f964a5207ca61fe3</td>\n",
       "    </tr>\n",
       "    <tr>\n",
       "      <th>1</th>\n",
       "      <td>The D Las Vegas Casino Hotel</td>\n",
       "      <td>Casino</td>\n",
       "      <td>301 Fremont St</td>\n",
       "      <td>NaN</td>\n",
       "      <td>36.169655</td>\n",
       "      <td>-115.142732</td>\n",
       "      <td>NaN</td>\n",
       "      <td>264</td>\n",
       "      <td>89101</td>\n",
       "      <td>US</td>\n",
       "      <td>Las Vegas</td>\n",
       "      <td>NV</td>\n",
       "      <td>United States</td>\n",
       "      <td>[301 Fremont St, Las Vegas, NV 89101, United S...</td>\n",
       "      <td>NaN</td>\n",
       "      <td>49de9a88f964a52089601fe3</td>\n",
       "    </tr>\n",
       "  </tbody>\n",
       "</table>\n",
       "</div>"
      ],
      "text/plain": [
       "                           name categories         address  \\\n",
       "0        Fremont Hotel & Casino     Casino  200 Fremont St   \n",
       "1  The D Las Vegas Casino Hotel     Casino  301 Fremont St   \n",
       "\n",
       "                            crossStreet        lat         lng  \\\n",
       "0  btwn N Casino Center Blvd & N 3rd St  36.171017 -115.143444   \n",
       "1                                   NaN  36.169655 -115.142732   \n",
       "\n",
       "                                      labeledLatLngs  distance postalCode  cc  \\\n",
       "0  [{'label': 'display', 'lat': 36.1710168, 'lng'...       350      89101  US   \n",
       "1                                                NaN       264      89101  US   \n",
       "\n",
       "        city state        country  \\\n",
       "0  Las Vegas    NV  United States   \n",
       "1  Las Vegas    NV  United States   \n",
       "\n",
       "                                    formattedAddress neighborhood  \\\n",
       "0  [200 Fremont St (btwn N Casino Center Blvd & N...          NaN   \n",
       "1  [301 Fremont St, Las Vegas, NV 89101, United S...          NaN   \n",
       "\n",
       "                         id  \n",
       "0  4a431d92f964a5207ca61fe3  \n",
       "1  49de9a88f964a52089601fe3  "
      ]
     },
     "execution_count": 7,
     "metadata": {},
     "output_type": "execute_result"
    }
   ],
   "source": [
    "filtered_columns = ['name', 'categories'] + [col for col in dataframe.columns if col.startswith('location.')] + ['id']\n",
    "dataframe_filtered = dataframe.loc[:, filtered_columns]\n",
    "\n",
    "def get_category_type(row):\n",
    "    try:\n",
    "        categories_list = row['categories']\n",
    "    except:\n",
    "        categories_list = row['venue.categories']\n",
    "        \n",
    "    if len(categories_list) == 0:\n",
    "        return None\n",
    "    else:\n",
    "        return categories_list[0]['name']\n",
    "\n",
    "# filter the category for each row\n",
    "dataframe_filtered['categories'] = dataframe_filtered.apply(get_category_type, axis=1)\n",
    "\n",
    "# clean column names by keeping only last term\n",
    "dataframe_filtered.columns = [column.split('.')[-1] for column in dataframe_filtered.columns]\n",
    "\n",
    "dataframe_filtered.head(2)"
   ]
  },
  {
   "cell_type": "code",
   "execution_count": 8,
   "metadata": {
    "ExecuteTime": {
     "end_time": "2020-05-08T04:12:36.591613Z",
     "start_time": "2020-05-08T04:12:35.843074Z"
    }
   },
   "outputs": [
    {
     "data": {
      "text/html": [
       "<div style=\"width:100%;\"><div style=\"position:relative;width:100%;height:0;padding-bottom:60%;\"><iframe src=\"about:blank\" style=\"position:absolute;width:100%;height:100%;left:0;top:0;border:none !important;\" data-html=PCFET0NUWVBFIGh0bWw+CjxoZWFkPiAgICAKICAgIDxtZXRhIGh0dHAtZXF1aXY9ImNvbnRlbnQtdHlwZSIgY29udGVudD0idGV4dC9odG1sOyBjaGFyc2V0PVVURi04IiAvPgogICAgPHNjcmlwdD5MX1BSRUZFUl9DQU5WQVMgPSBmYWxzZTsgTF9OT19UT1VDSCA9IGZhbHNlOyBMX0RJU0FCTEVfM0QgPSBmYWxzZTs8L3NjcmlwdD4KICAgIDxzY3JpcHQgc3JjPSJodHRwczovL2Nkbi5qc2RlbGl2ci5uZXQvbnBtL2xlYWZsZXRAMS4yLjAvZGlzdC9sZWFmbGV0LmpzIj48L3NjcmlwdD4KICAgIDxzY3JpcHQgc3JjPSJodHRwczovL2FqYXguZ29vZ2xlYXBpcy5jb20vYWpheC9saWJzL2pxdWVyeS8xLjExLjEvanF1ZXJ5Lm1pbi5qcyI+PC9zY3JpcHQ+CiAgICA8c2NyaXB0IHNyYz0iaHR0cHM6Ly9tYXhjZG4uYm9vdHN0cmFwY2RuLmNvbS9ib290c3RyYXAvMy4yLjAvanMvYm9vdHN0cmFwLm1pbi5qcyI+PC9zY3JpcHQ+CiAgICA8c2NyaXB0IHNyYz0iaHR0cHM6Ly9jZG5qcy5jbG91ZGZsYXJlLmNvbS9hamF4L2xpYnMvTGVhZmxldC5hd2Vzb21lLW1hcmtlcnMvMi4wLjIvbGVhZmxldC5hd2Vzb21lLW1hcmtlcnMuanMiPjwvc2NyaXB0PgogICAgPGxpbmsgcmVsPSJzdHlsZXNoZWV0IiBocmVmPSJodHRwczovL2Nkbi5qc2RlbGl2ci5uZXQvbnBtL2xlYWZsZXRAMS4yLjAvZGlzdC9sZWFmbGV0LmNzcyIvPgogICAgPGxpbmsgcmVsPSJzdHlsZXNoZWV0IiBocmVmPSJodHRwczovL21heGNkbi5ib290c3RyYXBjZG4uY29tL2Jvb3RzdHJhcC8zLjIuMC9jc3MvYm9vdHN0cmFwLm1pbi5jc3MiLz4KICAgIDxsaW5rIHJlbD0ic3R5bGVzaGVldCIgaHJlZj0iaHR0cHM6Ly9tYXhjZG4uYm9vdHN0cmFwY2RuLmNvbS9ib290c3RyYXAvMy4yLjAvY3NzL2Jvb3RzdHJhcC10aGVtZS5taW4uY3NzIi8+CiAgICA8bGluayByZWw9InN0eWxlc2hlZXQiIGhyZWY9Imh0dHBzOi8vbWF4Y2RuLmJvb3RzdHJhcGNkbi5jb20vZm9udC1hd2Vzb21lLzQuNi4zL2Nzcy9mb250LWF3ZXNvbWUubWluLmNzcyIvPgogICAgPGxpbmsgcmVsPSJzdHlsZXNoZWV0IiBocmVmPSJodHRwczovL2NkbmpzLmNsb3VkZmxhcmUuY29tL2FqYXgvbGlicy9MZWFmbGV0LmF3ZXNvbWUtbWFya2Vycy8yLjAuMi9sZWFmbGV0LmF3ZXNvbWUtbWFya2Vycy5jc3MiLz4KICAgIDxsaW5rIHJlbD0ic3R5bGVzaGVldCIgaHJlZj0iaHR0cHM6Ly9yYXdnaXQuY29tL3B5dGhvbi12aXN1YWxpemF0aW9uL2ZvbGl1bS9tYXN0ZXIvZm9saXVtL3RlbXBsYXRlcy9sZWFmbGV0LmF3ZXNvbWUucm90YXRlLmNzcyIvPgogICAgPHN0eWxlPmh0bWwsIGJvZHkge3dpZHRoOiAxMDAlO2hlaWdodDogMTAwJTttYXJnaW46IDA7cGFkZGluZzogMDt9PC9zdHlsZT4KICAgIDxzdHlsZT4jbWFwIHtwb3NpdGlvbjphYnNvbHV0ZTt0b3A6MDtib3R0b206MDtyaWdodDowO2xlZnQ6MDt9PC9zdHlsZT4KICAgIAogICAgICAgICAgICA8c3R5bGU+ICNtYXBfYTI4NWU1ZmI1MDdhNGI2ODg0MTNhOGEzYjhiMzBiY2YgewogICAgICAgICAgICAgICAgcG9zaXRpb24gOiByZWxhdGl2ZTsKICAgICAgICAgICAgICAgIHdpZHRoIDogMTAwLjAlOwogICAgICAgICAgICAgICAgaGVpZ2h0OiAxMDAuMCU7CiAgICAgICAgICAgICAgICBsZWZ0OiAwLjAlOwogICAgICAgICAgICAgICAgdG9wOiAwLjAlOwogICAgICAgICAgICAgICAgfQogICAgICAgICAgICA8L3N0eWxlPgogICAgICAgIAo8L2hlYWQ+Cjxib2R5PiAgICAKICAgIAogICAgICAgICAgICA8ZGl2IGNsYXNzPSJmb2xpdW0tbWFwIiBpZD0ibWFwX2EyODVlNWZiNTA3YTRiNjg4NDEzYThhM2I4YjMwYmNmIiA+PC9kaXY+CiAgICAgICAgCjwvYm9keT4KPHNjcmlwdD4gICAgCiAgICAKCiAgICAgICAgICAgIAogICAgICAgICAgICAgICAgdmFyIGJvdW5kcyA9IG51bGw7CiAgICAgICAgICAgIAoKICAgICAgICAgICAgdmFyIG1hcF9hMjg1ZTVmYjUwN2E0YjY4ODQxM2E4YTNiOGIzMGJjZiA9IEwubWFwKAogICAgICAgICAgICAgICAgICAgICAgICAgICAgICAgICAgJ21hcF9hMjg1ZTVmYjUwN2E0YjY4ODQxM2E4YTNiOGIzMGJjZicsCiAgICAgICAgICAgICAgICAgICAgICAgICAgICAgICAgICB7Y2VudGVyOiBbMzYuMTY5OSwtMTE1LjEzOThdLAogICAgICAgICAgICAgICAgICAgICAgICAgICAgICAgICAgem9vbTogMTEsCiAgICAgICAgICAgICAgICAgICAgICAgICAgICAgICAgICBtYXhCb3VuZHM6IGJvdW5kcywKICAgICAgICAgICAgICAgICAgICAgICAgICAgICAgICAgIGxheWVyczogW10sCiAgICAgICAgICAgICAgICAgICAgICAgICAgICAgICAgICB3b3JsZENvcHlKdW1wOiBmYWxzZSwKICAgICAgICAgICAgICAgICAgICAgICAgICAgICAgICAgIGNyczogTC5DUlMuRVBTRzM4NTcKICAgICAgICAgICAgICAgICAgICAgICAgICAgICAgICAgfSk7CiAgICAgICAgICAgIAogICAgICAgIAogICAgCiAgICAgICAgICAgIHZhciB0aWxlX2xheWVyX2Q3YmRlNDljZTIzODRkNTE4Y2YxMzdlNTE1OWRjZjAzID0gTC50aWxlTGF5ZXIoCiAgICAgICAgICAgICAgICAnaHR0cHM6Ly97c30udGlsZS5vcGVuc3RyZWV0bWFwLm9yZy97en0ve3h9L3t5fS5wbmcnLAogICAgICAgICAgICAgICAgewogICJhdHRyaWJ1dGlvbiI6IG51bGwsCiAgImRldGVjdFJldGluYSI6IGZhbHNlLAogICJtYXhab29tIjogMTgsCiAgIm1pblpvb20iOiAxLAogICJub1dyYXAiOiBmYWxzZSwKICAic3ViZG9tYWlucyI6ICJhYmMiCn0KICAgICAgICAgICAgICAgICkuYWRkVG8obWFwX2EyODVlNWZiNTA3YTRiNjg4NDEzYThhM2I4YjMwYmNmKTsKICAgICAgICAKICAgIAogICAgICAgICAgICB2YXIgY2lyY2xlX21hcmtlcl9mN2JmMTMyMzgyM2Q0ZmRmYTQyMjg5NjllYjA3NGI5NSA9IEwuY2lyY2xlTWFya2VyKAogICAgICAgICAgICAgICAgWzM2LjE2OTksLTExNS4xMzk4XSwKICAgICAgICAgICAgICAgIHsKICAiYnViYmxpbmdNb3VzZUV2ZW50cyI6IHRydWUsCiAgImNvbG9yIjogInJlZCIsCiAgImRhc2hBcnJheSI6IG51bGwsCiAgImRhc2hPZmZzZXQiOiBudWxsLAogICJmaWxsIjogdHJ1ZSwKICAiZmlsbENvbG9yIjogInJlZCIsCiAgImZpbGxPcGFjaXR5IjogMC42LAogICJmaWxsUnVsZSI6ICJldmVub2RkIiwKICAibGluZUNhcCI6ICJyb3VuZCIsCiAgImxpbmVKb2luIjogInJvdW5kIiwKICAib3BhY2l0eSI6IDEuMCwKICAicmFkaXVzIjogMTAsCiAgInN0cm9rZSI6IHRydWUsCiAgIndlaWdodCI6IDMKfQogICAgICAgICAgICAgICAgKS5hZGRUbyhtYXBfYTI4NWU1ZmI1MDdhNGI2ODg0MTNhOGEzYjhiMzBiY2YpOwogICAgICAgICAgICAKICAgIAogICAgICAgICAgICB2YXIgcG9wdXBfYjBiYzRhYjFhYjFjNDBlMmIxMTdhNmIyNTk1ZTc0MGIgPSBMLnBvcHVwKHttYXhXaWR0aDogJzMwMCd9KTsKCiAgICAgICAgICAgIAogICAgICAgICAgICAgICAgdmFyIGh0bWxfMDMyNGQ4MWVlOWRhNGEwNjgxNWM2ZTM4NGNkMGUxZjUgPSAkKCc8ZGl2IGlkPSJodG1sXzAzMjRkODFlZTlkYTRhMDY4MTVjNmUzODRjZDBlMWY1IiBzdHlsZT0id2lkdGg6IDEwMC4wJTsgaGVpZ2h0OiAxMDAuMCU7Ij5WZW51ZXM8L2Rpdj4nKVswXTsKICAgICAgICAgICAgICAgIHBvcHVwX2IwYmM0YWIxYWIxYzQwZTJiMTE3YTZiMjU5NWU3NDBiLnNldENvbnRlbnQoaHRtbF8wMzI0ZDgxZWU5ZGE0YTA2ODE1YzZlMzg0Y2QwZTFmNSk7CiAgICAgICAgICAgIAoKICAgICAgICAgICAgY2lyY2xlX21hcmtlcl9mN2JmMTMyMzgyM2Q0ZmRmYTQyMjg5NjllYjA3NGI5NS5iaW5kUG9wdXAocG9wdXBfYjBiYzRhYjFhYjFjNDBlMmIxMTdhNmIyNTk1ZTc0MGIpOwoKICAgICAgICAgICAgCiAgICAgICAgCiAgICAKICAgICAgICAgICAgdmFyIGNpcmNsZV9tYXJrZXJfODM5YTRlOTgxN2I3NDlkNjgxNDkwZjBmZjY3MDVmZmQgPSBMLmNpcmNsZU1hcmtlcigKICAgICAgICAgICAgICAgIFszNi4xNzEwMTY4LC0xMTUuMTQzNDQzN10sCiAgICAgICAgICAgICAgICB7CiAgImJ1YmJsaW5nTW91c2VFdmVudHMiOiB0cnVlLAogICJjb2xvciI6ICJibHVlIiwKICAiZGFzaEFycmF5IjogbnVsbCwKICAiZGFzaE9mZnNldCI6IG51bGwsCiAgImZpbGwiOiB0cnVlLAogICJmaWxsQ29sb3IiOiAiYmx1ZSIsCiAgImZpbGxPcGFjaXR5IjogMC42LAogICJmaWxsUnVsZSI6ICJldmVub2RkIiwKICAibGluZUNhcCI6ICJyb3VuZCIsCiAgImxpbmVKb2luIjogInJvdW5kIiwKICAib3BhY2l0eSI6IDEuMCwKICAicmFkaXVzIjogNSwKICAic3Ryb2tlIjogdHJ1ZSwKICAid2VpZ2h0IjogMwp9CiAgICAgICAgICAgICAgICApLmFkZFRvKG1hcF9hMjg1ZTVmYjUwN2E0YjY4ODQxM2E4YTNiOGIzMGJjZik7CiAgICAgICAgICAgIAogICAgCiAgICAgICAgICAgIHZhciBwb3B1cF9lZjRmZTg0ZmM3ODI0MjJmOGNiMzBkZDVlNmZiMDQ2ZiA9IEwucG9wdXAoe21heFdpZHRoOiAnMzAwJ30pOwoKICAgICAgICAgICAgCiAgICAgICAgICAgICAgICB2YXIgaHRtbF8zOTRjMTg4ZWRlZmU0MDM5ODUxMzhhZTBhYTgxNmExMSA9ICQoJzxkaXYgaWQ9Imh0bWxfMzk0YzE4OGVkZWZlNDAzOTg1MTM4YWUwYWE4MTZhMTEiIHN0eWxlPSJ3aWR0aDogMTAwLjAlOyBoZWlnaHQ6IDEwMC4wJTsiPkNhc2lubzwvZGl2PicpWzBdOwogICAgICAgICAgICAgICAgcG9wdXBfZWY0ZmU4NGZjNzgyNDIyZjhjYjMwZGQ1ZTZmYjA0NmYuc2V0Q29udGVudChodG1sXzM5NGMxODhlZGVmZTQwMzk4NTEzOGFlMGFhODE2YTExKTsKICAgICAgICAgICAgCgogICAgICAgICAgICBjaXJjbGVfbWFya2VyXzgzOWE0ZTk4MTdiNzQ5ZDY4MTQ5MGYwZmY2NzA1ZmZkLmJpbmRQb3B1cChwb3B1cF9lZjRmZTg0ZmM3ODI0MjJmOGNiMzBkZDVlNmZiMDQ2Zik7CgogICAgICAgICAgICAKICAgICAgICAKICAgIAogICAgICAgICAgICB2YXIgY2lyY2xlX21hcmtlcl8xZjY0MmI4ODczY2I0NDQwODdkYWJlMjdiMzkyZTIwYiA9IEwuY2lyY2xlTWFya2VyKAogICAgICAgICAgICAgICAgWzM2LjE2OTY1NDY5MTkzMjEyNCwtMTE1LjE0MjczMTgyNDU4NTIxXSwKICAgICAgICAgICAgICAgIHsKICAiYnViYmxpbmdNb3VzZUV2ZW50cyI6IHRydWUsCiAgImNvbG9yIjogImJsdWUiLAogICJkYXNoQXJyYXkiOiBudWxsLAogICJkYXNoT2Zmc2V0IjogbnVsbCwKICAiZmlsbCI6IHRydWUsCiAgImZpbGxDb2xvciI6ICJibHVlIiwKICAiZmlsbE9wYWNpdHkiOiAwLjYsCiAgImZpbGxSdWxlIjogImV2ZW5vZGQiLAogICJsaW5lQ2FwIjogInJvdW5kIiwKICAibGluZUpvaW4iOiAicm91bmQiLAogICJvcGFjaXR5IjogMS4wLAogICJyYWRpdXMiOiA1LAogICJzdHJva2UiOiB0cnVlLAogICJ3ZWlnaHQiOiAzCn0KICAgICAgICAgICAgICAgICkuYWRkVG8obWFwX2EyODVlNWZiNTA3YTRiNjg4NDEzYThhM2I4YjMwYmNmKTsKICAgICAgICAgICAgCiAgICAKICAgICAgICAgICAgdmFyIHBvcHVwX2JlNzcxZDM0MTY5ZTQxZWY5ZTRjNzlkODA0NjdiMDAxID0gTC5wb3B1cCh7bWF4V2lkdGg6ICczMDAnfSk7CgogICAgICAgICAgICAKICAgICAgICAgICAgICAgIHZhciBodG1sX2JhZTdiNGNjM2YwNDQxOTM5ZmRmNzYyZWIyOTNiYmQxID0gJCgnPGRpdiBpZD0iaHRtbF9iYWU3YjRjYzNmMDQ0MTkzOWZkZjc2MmViMjkzYmJkMSIgc3R5bGU9IndpZHRoOiAxMDAuMCU7IGhlaWdodDogMTAwLjAlOyI+Q2FzaW5vPC9kaXY+JylbMF07CiAgICAgICAgICAgICAgICBwb3B1cF9iZTc3MWQzNDE2OWU0MWVmOWU0Yzc5ZDgwNDY3YjAwMS5zZXRDb250ZW50KGh0bWxfYmFlN2I0Y2MzZjA0NDE5MzlmZGY3NjJlYjI5M2JiZDEpOwogICAgICAgICAgICAKCiAgICAgICAgICAgIGNpcmNsZV9tYXJrZXJfMWY2NDJiODg3M2NiNDQ0MDg3ZGFiZTI3YjM5MmUyMGIuYmluZFBvcHVwKHBvcHVwX2JlNzcxZDM0MTY5ZTQxZWY5ZTRjNzlkODA0NjdiMDAxKTsKCiAgICAgICAgICAgIAogICAgICAgIAogICAgCiAgICAgICAgICAgIHZhciBjaXJjbGVfbWFya2VyX2IyMzNhMTAwYTVkZDQwZWU5OWMzNmIxNWQ0OTY5OGJkID0gTC5jaXJjbGVNYXJrZXIoCiAgICAgICAgICAgICAgICBbMzYuMTczMDI5MiwtMTE1LjE0NDE5OTNdLAogICAgICAgICAgICAgICAgewogICJidWJibGluZ01vdXNlRXZlbnRzIjogdHJ1ZSwKICAiY29sb3IiOiAiYmx1ZSIsCiAgImRhc2hBcnJheSI6IG51bGwsCiAgImRhc2hPZmZzZXQiOiBudWxsLAogICJmaWxsIjogdHJ1ZSwKICAiZmlsbENvbG9yIjogImJsdWUiLAogICJmaWxsT3BhY2l0eSI6IDAuNiwKICAiZmlsbFJ1bGUiOiAiZXZlbm9kZCIsCiAgImxpbmVDYXAiOiAicm91bmQiLAogICJsaW5lSm9pbiI6ICJyb3VuZCIsCiAgIm9wYWNpdHkiOiAxLjAsCiAgInJhZGl1cyI6IDUsCiAgInN0cm9rZSI6IHRydWUsCiAgIndlaWdodCI6IDMKfQogICAgICAgICAgICAgICAgKS5hZGRUbyhtYXBfYTI4NWU1ZmI1MDdhNGI2ODg0MTNhOGEzYjhiMzBiY2YpOwogICAgICAgICAgICAKICAgIAogICAgICAgICAgICB2YXIgcG9wdXBfNzM2NDE1M2U0NDA1NDIxMWIxYmJjNmFlOTMwM2M4M2MgPSBMLnBvcHVwKHttYXhXaWR0aDogJzMwMCd9KTsKCiAgICAgICAgICAgIAogICAgICAgICAgICAgICAgdmFyIGh0bWxfZjc0ZTg3MmFlNTk3NDI1YThjNGRjMTZhNDNmZjAzOGEgPSAkKCc8ZGl2IGlkPSJodG1sX2Y3NGU4NzJhZTU5NzQyNWE4YzRkYzE2YTQzZmYwMzhhIiBzdHlsZT0id2lkdGg6IDEwMC4wJTsgaGVpZ2h0OiAxMDAuMCU7Ij5Ib3RlbDwvZGl2PicpWzBdOwogICAgICAgICAgICAgICAgcG9wdXBfNzM2NDE1M2U0NDA1NDIxMWIxYmJjNmFlOTMwM2M4M2Muc2V0Q29udGVudChodG1sX2Y3NGU4NzJhZTU5NzQyNWE4YzRkYzE2YTQzZmYwMzhhKTsKICAgICAgICAgICAgCgogICAgICAgICAgICBjaXJjbGVfbWFya2VyX2IyMzNhMTAwYTVkZDQwZWU5OWMzNmIxNWQ0OTY5OGJkLmJpbmRQb3B1cChwb3B1cF83MzY0MTUzZTQ0MDU0MjExYjFiYmM2YWU5MzAzYzgzYyk7CgogICAgICAgICAgICAKICAgICAgICAKICAgIAogICAgICAgICAgICB2YXIgY2lyY2xlX21hcmtlcl80ZmVhYWIyYTUwY2Q0MGUxYjQ0YTZjMDFmYjE3ODA1NiA9IEwuY2lyY2xlTWFya2VyKAogICAgICAgICAgICAgICAgWzM2LjE3MDI2NiwtMTE1LjE0Mzk5Ml0sCiAgICAgICAgICAgICAgICB7CiAgImJ1YmJsaW5nTW91c2VFdmVudHMiOiB0cnVlLAogICJjb2xvciI6ICJibHVlIiwKICAiZGFzaEFycmF5IjogbnVsbCwKICAiZGFzaE9mZnNldCI6IG51bGwsCiAgImZpbGwiOiB0cnVlLAogICJmaWxsQ29sb3IiOiAiYmx1ZSIsCiAgImZpbGxPcGFjaXR5IjogMC42LAogICJmaWxsUnVsZSI6ICJldmVub2RkIiwKICAibGluZUNhcCI6ICJyb3VuZCIsCiAgImxpbmVKb2luIjogInJvdW5kIiwKICAib3BhY2l0eSI6IDEuMCwKICAicmFkaXVzIjogNSwKICAic3Ryb2tlIjogdHJ1ZSwKICAid2VpZ2h0IjogMwp9CiAgICAgICAgICAgICAgICApLmFkZFRvKG1hcF9hMjg1ZTVmYjUwN2E0YjY4ODQxM2E4YTNiOGIzMGJjZik7CiAgICAgICAgICAgIAogICAgCiAgICAgICAgICAgIHZhciBwb3B1cF8yZWI1ZTg3Mjk5YzA0NjJhOGNiOTNlNDMwYTBlM2MyMiA9IEwucG9wdXAoe21heFdpZHRoOiAnMzAwJ30pOwoKICAgICAgICAgICAgCiAgICAgICAgICAgICAgICB2YXIgaHRtbF9lZTI2Y2I0MzBiZTE0Mzk5YjM4Mjk3MDg0YzJiMDBmOCA9ICQoJzxkaXYgaWQ9Imh0bWxfZWUyNmNiNDMwYmUxNDM5OWIzODI5NzA4NGMyYjAwZjgiIHN0eWxlPSJ3aWR0aDogMTAwLjAlOyBoZWlnaHQ6IDEwMC4wJTsiPkNhc2lubzwvZGl2PicpWzBdOwogICAgICAgICAgICAgICAgcG9wdXBfMmViNWU4NzI5OWMwNDYyYThjYjkzZTQzMGEwZTNjMjIuc2V0Q29udGVudChodG1sX2VlMjZjYjQzMGJlMTQzOTliMzgyOTcwODRjMmIwMGY4KTsKICAgICAgICAgICAgCgogICAgICAgICAgICBjaXJjbGVfbWFya2VyXzRmZWFhYjJhNTBjZDQwZTFiNDRhNmMwMWZiMTc4MDU2LmJpbmRQb3B1cChwb3B1cF8yZWI1ZTg3Mjk5YzA0NjJhOGNiOTNlNDMwYTBlM2MyMik7CgogICAgICAgICAgICAKICAgICAgICAKICAgIAogICAgICAgICAgICB2YXIgY2lyY2xlX21hcmtlcl81YmEyN2Q4ODFlY2I0MzBjOTlmMGQ1OTFlMTdhYzVjYiA9IEwuY2lyY2xlTWFya2VyKAogICAgICAgICAgICAgICAgWzM2LjE3MDIyMiwtMTE1LjE0NDk2OV0sCiAgICAgICAgICAgICAgICB7CiAgImJ1YmJsaW5nTW91c2VFdmVudHMiOiB0cnVlLAogICJjb2xvciI6ICJibHVlIiwKICAiZGFzaEFycmF5IjogbnVsbCwKICAiZGFzaE9mZnNldCI6IG51bGwsCiAgImZpbGwiOiB0cnVlLAogICJmaWxsQ29sb3IiOiAiYmx1ZSIsCiAgImZpbGxPcGFjaXR5IjogMC42LAogICJmaWxsUnVsZSI6ICJldmVub2RkIiwKICAibGluZUNhcCI6ICJyb3VuZCIsCiAgImxpbmVKb2luIjogInJvdW5kIiwKICAib3BhY2l0eSI6IDEuMCwKICAicmFkaXVzIjogNSwKICAic3Ryb2tlIjogdHJ1ZSwKICAid2VpZ2h0IjogMwp9CiAgICAgICAgICAgICAgICApLmFkZFRvKG1hcF9hMjg1ZTVmYjUwN2E0YjY4ODQxM2E4YTNiOGIzMGJjZik7CiAgICAgICAgICAgIAogICAgCiAgICAgICAgICAgIHZhciBwb3B1cF81NjBlMTEwODY2ZDI0ODdmODA1Y2M0OGM2NGJmYTMzYSA9IEwucG9wdXAoe21heFdpZHRoOiAnMzAwJ30pOwoKICAgICAgICAgICAgCiAgICAgICAgICAgICAgICB2YXIgaHRtbF9mYWYzZTRkZGM3MTg0NzQ3YWFlYTU4NmY2Njk2MzE3NyA9ICQoJzxkaXYgaWQ9Imh0bWxfZmFmM2U0ZGRjNzE4NDc0N2FhZWE1ODZmNjY5NjMxNzciIHN0eWxlPSJ3aWR0aDogMTAwLjAlOyBoZWlnaHQ6IDEwMC4wJTsiPkNhc2lubzwvZGl2PicpWzBdOwogICAgICAgICAgICAgICAgcG9wdXBfNTYwZTExMDg2NmQyNDg3ZjgwNWNjNDhjNjRiZmEzM2Euc2V0Q29udGVudChodG1sX2ZhZjNlNGRkYzcxODQ3NDdhYWVhNTg2ZjY2OTYzMTc3KTsKICAgICAgICAgICAgCgogICAgICAgICAgICBjaXJjbGVfbWFya2VyXzViYTI3ZDg4MWVjYjQzMGM5OWYwZDU5MWUxN2FjNWNiLmJpbmRQb3B1cChwb3B1cF81NjBlMTEwODY2ZDI0ODdmODA1Y2M0OGM2NGJmYTMzYSk7CgogICAgICAgICAgICAKICAgICAgICAKICAgIAogICAgICAgICAgICB2YXIgY2lyY2xlX21hcmtlcl85NDQ1MWE1NTliMmU0YTQ3OTEzZjIwYTg3YzgzNDY0ZCA9IEwuY2lyY2xlTWFya2VyKAogICAgICAgICAgICAgICAgWzM2LjE2OTgwNDMwOTM4MzU0NCwtMTE1LjE0Mjg3MzI3MzMwMjE3XSwKICAgICAgICAgICAgICAgIHsKICAiYnViYmxpbmdNb3VzZUV2ZW50cyI6IHRydWUsCiAgImNvbG9yIjogImJsdWUiLAogICJkYXNoQXJyYXkiOiBudWxsLAogICJkYXNoT2Zmc2V0IjogbnVsbCwKICAiZmlsbCI6IHRydWUsCiAgImZpbGxDb2xvciI6ICJibHVlIiwKICAiZmlsbE9wYWNpdHkiOiAwLjYsCiAgImZpbGxSdWxlIjogImV2ZW5vZGQiLAogICJsaW5lQ2FwIjogInJvdW5kIiwKICAibGluZUpvaW4iOiAicm91bmQiLAogICJvcGFjaXR5IjogMS4wLAogICJyYWRpdXMiOiA1LAogICJzdHJva2UiOiB0cnVlLAogICJ3ZWlnaHQiOiAzCn0KICAgICAgICAgICAgICAgICkuYWRkVG8obWFwX2EyODVlNWZiNTA3YTRiNjg4NDEzYThhM2I4YjMwYmNmKTsKICAgICAgICAgICAgCiAgICAKICAgICAgICAgICAgdmFyIHBvcHVwX2UyM2U0YWYwZTY1NDQzZWNiMGE1YTRlNWE3MDhiMzgxID0gTC5wb3B1cCh7bWF4V2lkdGg6ICczMDAnfSk7CgogICAgICAgICAgICAKICAgICAgICAgICAgICAgIHZhciBodG1sXzhlMjdkODZiNjhlZDQxMjE5Y2YzOGFhNzNkZjQ3ODRmID0gJCgnPGRpdiBpZD0iaHRtbF84ZTI3ZDg2YjY4ZWQ0MTIxOWNmMzhhYTczZGY0Nzg0ZiIgc3R5bGU9IndpZHRoOiAxMDAuMCU7IGhlaWdodDogMTAwLjAlOyI+SG90ZWwgQmFyPC9kaXY+JylbMF07CiAgICAgICAgICAgICAgICBwb3B1cF9lMjNlNGFmMGU2NTQ0M2VjYjBhNWE0ZTVhNzA4YjM4MS5zZXRDb250ZW50KGh0bWxfOGUyN2Q4NmI2OGVkNDEyMTljZjM4YWE3M2RmNDc4NGYpOwogICAgICAgICAgICAKCiAgICAgICAgICAgIGNpcmNsZV9tYXJrZXJfOTQ0NTFhNTU5YjJlNGE0NzkxM2YyMGE4N2M4MzQ2NGQuYmluZFBvcHVwKHBvcHVwX2UyM2U0YWYwZTY1NDQzZWNiMGE1YTRlNWE3MDhiMzgxKTsKCiAgICAgICAgICAgIAogICAgICAgIAogICAgCiAgICAgICAgICAgIHZhciBjaXJjbGVfbWFya2VyXzcxMjhkYjdmMmQ0ZTQyZmU4ZmJkNGY0NDcyYzYxNWY3ID0gTC5jaXJjbGVNYXJrZXIoCiAgICAgICAgICAgICAgICBbMzYuMTcxMzk4NDI2OTk0ODksLTExNS4xNDY2ODY2NzI0NjQ0NV0sCiAgICAgICAgICAgICAgICB7CiAgImJ1YmJsaW5nTW91c2VFdmVudHMiOiB0cnVlLAogICJjb2xvciI6ICJibHVlIiwKICAiZGFzaEFycmF5IjogbnVsbCwKICAiZGFzaE9mZnNldCI6IG51bGwsCiAgImZpbGwiOiB0cnVlLAogICJmaWxsQ29sb3IiOiAiYmx1ZSIsCiAgImZpbGxPcGFjaXR5IjogMC42LAogICJmaWxsUnVsZSI6ICJldmVub2RkIiwKICAibGluZUNhcCI6ICJyb3VuZCIsCiAgImxpbmVKb2luIjogInJvdW5kIiwKICAib3BhY2l0eSI6IDEuMCwKICAicmFkaXVzIjogNSwKICAic3Ryb2tlIjogdHJ1ZSwKICAid2VpZ2h0IjogMwp9CiAgICAgICAgICAgICAgICApLmFkZFRvKG1hcF9hMjg1ZTVmYjUwN2E0YjY4ODQxM2E4YTNiOGIzMGJjZik7CiAgICAgICAgICAgIAogICAgCiAgICAgICAgICAgIHZhciBwb3B1cF9hOTdlMmI4YTExZmQ0Y2Y4YjI3YmYwMjM4NmMwM2Y4MiA9IEwucG9wdXAoe21heFdpZHRoOiAnMzAwJ30pOwoKICAgICAgICAgICAgCiAgICAgICAgICAgICAgICB2YXIgaHRtbF9iNWQ0MzYwM2I2MDE0NjJjODZhZDI4OGQ1YmEyN2MyYyA9ICQoJzxkaXYgaWQ9Imh0bWxfYjVkNDM2MDNiNjAxNDYyYzg2YWQyODhkNWJhMjdjMmMiIHN0eWxlPSJ3aWR0aDogMTAwLjAlOyBoZWlnaHQ6IDEwMC4wJTsiPkNhc2lubzwvZGl2PicpWzBdOwogICAgICAgICAgICAgICAgcG9wdXBfYTk3ZTJiOGExMWZkNGNmOGIyN2JmMDIzODZjMDNmODIuc2V0Q29udGVudChodG1sX2I1ZDQzNjAzYjYwMTQ2MmM4NmFkMjg4ZDViYTI3YzJjKTsKICAgICAgICAgICAgCgogICAgICAgICAgICBjaXJjbGVfbWFya2VyXzcxMjhkYjdmMmQ0ZTQyZmU4ZmJkNGY0NDcyYzYxNWY3LmJpbmRQb3B1cChwb3B1cF9hOTdlMmI4YTExZmQ0Y2Y4YjI3YmYwMjM4NmMwM2Y4Mik7CgogICAgICAgICAgICAKICAgICAgICAKICAgIAogICAgICAgICAgICB2YXIgY2lyY2xlX21hcmtlcl82NTZhYmE5ZDBjOTU0MTM5ODYxMDM3MGNlOWE2NzEwZCA9IEwuY2lyY2xlTWFya2VyKAogICAgICAgICAgICAgICAgWzM2LjE3MDg0NTAzMTczODI4LC0xMTUuMTQzOTc0MzA0MTk5MjJdLAogICAgICAgICAgICAgICAgewogICJidWJibGluZ01vdXNlRXZlbnRzIjogdHJ1ZSwKICAiY29sb3IiOiAiYmx1ZSIsCiAgImRhc2hBcnJheSI6IG51bGwsCiAgImRhc2hPZmZzZXQiOiBudWxsLAogICJmaWxsIjogdHJ1ZSwKICAiZmlsbENvbG9yIjogImJsdWUiLAogICJmaWxsT3BhY2l0eSI6IDAuNiwKICAiZmlsbFJ1bGUiOiAiZXZlbm9kZCIsCiAgImxpbmVDYXAiOiAicm91bmQiLAogICJsaW5lSm9pbiI6ICJyb3VuZCIsCiAgIm9wYWNpdHkiOiAxLjAsCiAgInJhZGl1cyI6IDUsCiAgInN0cm9rZSI6IHRydWUsCiAgIndlaWdodCI6IDMKfQogICAgICAgICAgICAgICAgKS5hZGRUbyhtYXBfYTI4NWU1ZmI1MDdhNGI2ODg0MTNhOGEzYjhiMzBiY2YpOwogICAgICAgICAgICAKICAgIAogICAgICAgICAgICB2YXIgcG9wdXBfMjUwMDY1Mjc0NGM2NGNmYjhmNmM2NzJjOTgyYzc2NTYgPSBMLnBvcHVwKHttYXhXaWR0aDogJzMwMCd9KTsKCiAgICAgICAgICAgIAogICAgICAgICAgICAgICAgdmFyIGh0bWxfNmNjZjQ3ZWYzYzIxNDBmN2I3ZDExMWQ5NTRjYjRhYzQgPSAkKCc8ZGl2IGlkPSJodG1sXzZjY2Y0N2VmM2MyMTQwZjdiN2QxMTFkOTU0Y2I0YWM0IiBzdHlsZT0id2lkdGg6IDEwMC4wJTsgaGVpZ2h0OiAxMDAuMCU7Ij5DYXNpbm88L2Rpdj4nKVswXTsKICAgICAgICAgICAgICAgIHBvcHVwXzI1MDA2NTI3NDRjNjRjZmI4ZjZjNjcyYzk4MmM3NjU2LnNldENvbnRlbnQoaHRtbF82Y2NmNDdlZjNjMjE0MGY3YjdkMTExZDk1NGNiNGFjNCk7CiAgICAgICAgICAgIAoKICAgICAgICAgICAgY2lyY2xlX21hcmtlcl82NTZhYmE5ZDBjOTU0MTM5ODYxMDM3MGNlOWE2NzEwZC5iaW5kUG9wdXAocG9wdXBfMjUwMDY1Mjc0NGM2NGNmYjhmNmM2NzJjOTgyYzc2NTYpOwoKICAgICAgICAgICAgCiAgICAgICAgCiAgICAKICAgICAgICAgICAgdmFyIGNpcmNsZV9tYXJrZXJfOGQ0MWEwMWU5YTQ3NDM3Mzg3ZGRmMmU2YWMxZGZmZjUgPSBMLmNpcmNsZU1hcmtlcigKICAgICAgICAgICAgICAgIFszNi4xNzE4NjI5NTE4Njk4MSwtMTE1LjE0NjcyMDcwNzQxNjUzXSwKICAgICAgICAgICAgICAgIHsKICAiYnViYmxpbmdNb3VzZUV2ZW50cyI6IHRydWUsCiAgImNvbG9yIjogImJsdWUiLAogICJkYXNoQXJyYXkiOiBudWxsLAogICJkYXNoT2Zmc2V0IjogbnVsbCwKICAiZmlsbCI6IHRydWUsCiAgImZpbGxDb2xvciI6ICJibHVlIiwKICAiZmlsbE9wYWNpdHkiOiAwLjYsCiAgImZpbGxSdWxlIjogImV2ZW5vZGQiLAogICJsaW5lQ2FwIjogInJvdW5kIiwKICAibGluZUpvaW4iOiAicm91bmQiLAogICJvcGFjaXR5IjogMS4wLAogICJyYWRpdXMiOiA1LAogICJzdHJva2UiOiB0cnVlLAogICJ3ZWlnaHQiOiAzCn0KICAgICAgICAgICAgICAgICkuYWRkVG8obWFwX2EyODVlNWZiNTA3YTRiNjg4NDEzYThhM2I4YjMwYmNmKTsKICAgICAgICAgICAgCiAgICAKICAgICAgICAgICAgdmFyIHBvcHVwX2EzYjFkMjRiNDYxYjRmZjk4MTg1ODZjY2Y1NTNiM2Q2ID0gTC5wb3B1cCh7bWF4V2lkdGg6ICczMDAnfSk7CgogICAgICAgICAgICAKICAgICAgICAgICAgICAgIHZhciBodG1sXzI4YmYwODgyZDRlODRlYzc4ZGNmYjAzZjE5MzhjNjhmID0gJCgnPGRpdiBpZD0iaHRtbF8yOGJmMDg4MmQ0ZTg0ZWM3OGRjZmIwM2YxOTM4YzY4ZiIgc3R5bGU9IndpZHRoOiAxMDAuMCU7IGhlaWdodDogMTAwLjAlOyI+TWlzY2VsbGFuZW91cyBTaG9wPC9kaXY+JylbMF07CiAgICAgICAgICAgICAgICBwb3B1cF9hM2IxZDI0YjQ2MWI0ZmY5ODE4NTg2Y2NmNTUzYjNkNi5zZXRDb250ZW50KGh0bWxfMjhiZjA4ODJkNGU4NGVjNzhkY2ZiMDNmMTkzOGM2OGYpOwogICAgICAgICAgICAKCiAgICAgICAgICAgIGNpcmNsZV9tYXJrZXJfOGQ0MWEwMWU5YTQ3NDM3Mzg3ZGRmMmU2YWMxZGZmZjUuYmluZFBvcHVwKHBvcHVwX2EzYjFkMjRiNDYxYjRmZjk4MTg1ODZjY2Y1NTNiM2Q2KTsKCiAgICAgICAgICAgIAogICAgICAgIAogICAgCiAgICAgICAgICAgIHZhciBjaXJjbGVfbWFya2VyXzEzYzFhODZkYTMwNzQ3M2JiNmI4YjdhZjMxYjFmZTA0ID0gTC5jaXJjbGVNYXJrZXIoCiAgICAgICAgICAgICAgICBbMzYuMTcxMjM5MDE2OTMyMDgsLTExNS4xNDY4NDg4MDI4MTU0M10sCiAgICAgICAgICAgICAgICB7CiAgImJ1YmJsaW5nTW91c2VFdmVudHMiOiB0cnVlLAogICJjb2xvciI6ICJibHVlIiwKICAiZGFzaEFycmF5IjogbnVsbCwKICAiZGFzaE9mZnNldCI6IG51bGwsCiAgImZpbGwiOiB0cnVlLAogICJmaWxsQ29sb3IiOiAiYmx1ZSIsCiAgImZpbGxPcGFjaXR5IjogMC42LAogICJmaWxsUnVsZSI6ICJldmVub2RkIiwKICAibGluZUNhcCI6ICJyb3VuZCIsCiAgImxpbmVKb2luIjogInJvdW5kIiwKICAib3BhY2l0eSI6IDEuMCwKICAicmFkaXVzIjogNSwKICAic3Ryb2tlIjogdHJ1ZSwKICAid2VpZ2h0IjogMwp9CiAgICAgICAgICAgICAgICApLmFkZFRvKG1hcF9hMjg1ZTVmYjUwN2E0YjY4ODQxM2E4YTNiOGIzMGJjZik7CiAgICAgICAgICAgIAogICAgCiAgICAgICAgICAgIHZhciBwb3B1cF9hNzhlMTFmYmUyMDk0MzkxYjZhOTNjNzE4OGNlZGM5MyA9IEwucG9wdXAoe21heFdpZHRoOiAnMzAwJ30pOwoKICAgICAgICAgICAgCiAgICAgICAgICAgICAgICB2YXIgaHRtbF8wMWIyZWIwOTU5YTQ0NWQxYWJmMDcwNjY3ZGY0ZDJmYyA9ICQoJzxkaXYgaWQ9Imh0bWxfMDFiMmViMDk1OWE0NDVkMWFiZjA3MDY2N2RmNGQyZmMiIHN0eWxlPSJ3aWR0aDogMTAwLjAlOyBoZWlnaHQ6IDEwMC4wJTsiPkNhc2lubzwvZGl2PicpWzBdOwogICAgICAgICAgICAgICAgcG9wdXBfYTc4ZTExZmJlMjA5NDM5MWI2YTkzYzcxODhjZWRjOTMuc2V0Q29udGVudChodG1sXzAxYjJlYjA5NTlhNDQ1ZDFhYmYwNzA2NjdkZjRkMmZjKTsKICAgICAgICAgICAgCgogICAgICAgICAgICBjaXJjbGVfbWFya2VyXzEzYzFhODZkYTMwNzQ3M2JiNmI4YjdhZjMxYjFmZTA0LmJpbmRQb3B1cChwb3B1cF9hNzhlMTFmYmUyMDk0MzkxYjZhOTNjNzE4OGNlZGM5Myk7CgogICAgICAgICAgICAKICAgICAgICAKICAgIAogICAgICAgICAgICB2YXIgY2lyY2xlX21hcmtlcl81ZjRjNDQxMjQ1YWY0MmExOGNkZWRjODc3MzM4MDRmMyA9IEwuY2lyY2xlTWFya2VyKAogICAgICAgICAgICAgICAgWzM2LjE2OTk0MTIsLTExNS4xMzk4Mjk2XSwKICAgICAgICAgICAgICAgIHsKICAiYnViYmxpbmdNb3VzZUV2ZW50cyI6IHRydWUsCiAgImNvbG9yIjogImJsdWUiLAogICJkYXNoQXJyYXkiOiBudWxsLAogICJkYXNoT2Zmc2V0IjogbnVsbCwKICAiZmlsbCI6IHRydWUsCiAgImZpbGxDb2xvciI6ICJibHVlIiwKICAiZmlsbE9wYWNpdHkiOiAwLjYsCiAgImZpbGxSdWxlIjogImV2ZW5vZGQiLAogICJsaW5lQ2FwIjogInJvdW5kIiwKICAibGluZUpvaW4iOiAicm91bmQiLAogICJvcGFjaXR5IjogMS4wLAogICJyYWRpdXMiOiA1LAogICJzdHJva2UiOiB0cnVlLAogICJ3ZWlnaHQiOiAzCn0KICAgICAgICAgICAgICAgICkuYWRkVG8obWFwX2EyODVlNWZiNTA3YTRiNjg4NDEzYThhM2I4YjMwYmNmKTsKICAgICAgICAgICAgCiAgICAKICAgICAgICAgICAgdmFyIHBvcHVwX2NiZDRlYTZmMzQwYTQxNGE5YjJkMmU5YTVlOGM0NjhlID0gTC5wb3B1cCh7bWF4V2lkdGg6ICczMDAnfSk7CgogICAgICAgICAgICAKICAgICAgICAgICAgICAgIHZhciBodG1sXzY3YmEwNjk0YzliMTRkZjc4NzA0ZWQ3N2U2N2YxMjAwID0gJCgnPGRpdiBpZD0iaHRtbF82N2JhMDY5NGM5YjE0ZGY3ODcwNGVkNzdlNjdmMTIwMCIgc3R5bGU9IndpZHRoOiAxMDAuMCU7IGhlaWdodDogMTAwLjAlOyI+TXVzaWMgVmVudWU8L2Rpdj4nKVswXTsKICAgICAgICAgICAgICAgIHBvcHVwX2NiZDRlYTZmMzQwYTQxNGE5YjJkMmU5YTVlOGM0NjhlLnNldENvbnRlbnQoaHRtbF82N2JhMDY5NGM5YjE0ZGY3ODcwNGVkNzdlNjdmMTIwMCk7CiAgICAgICAgICAgIAoKICAgICAgICAgICAgY2lyY2xlX21hcmtlcl81ZjRjNDQxMjQ1YWY0MmExOGNkZWRjODc3MzM4MDRmMy5iaW5kUG9wdXAocG9wdXBfY2JkNGVhNmYzNDBhNDE0YTliMmQyZTlhNWU4YzQ2OGUpOwoKICAgICAgICAgICAgCiAgICAgICAgCiAgICAKICAgICAgICAgICAgdmFyIGNpcmNsZV9tYXJrZXJfNDc4YmFiZDU2YjYwNDlmM2E5MDVhMjJmN2U0NWYzY2UgPSBMLmNpcmNsZU1hcmtlcigKICAgICAgICAgICAgICAgIFszNi4xNzAwNzQ0NjI5LC0xMTUuMTQwMTc0ODY2XSwKICAgICAgICAgICAgICAgIHsKICAiYnViYmxpbmdNb3VzZUV2ZW50cyI6IHRydWUsCiAgImNvbG9yIjogImJsdWUiLAogICJkYXNoQXJyYXkiOiBudWxsLAogICJkYXNoT2Zmc2V0IjogbnVsbCwKICAiZmlsbCI6IHRydWUsCiAgImZpbGxDb2xvciI6ICJibHVlIiwKICAiZmlsbE9wYWNpdHkiOiAwLjYsCiAgImZpbGxSdWxlIjogImV2ZW5vZGQiLAogICJsaW5lQ2FwIjogInJvdW5kIiwKICAibGluZUpvaW4iOiAicm91bmQiLAogICJvcGFjaXR5IjogMS4wLAogICJyYWRpdXMiOiA1LAogICJzdHJva2UiOiB0cnVlLAogICJ3ZWlnaHQiOiAzCn0KICAgICAgICAgICAgICAgICkuYWRkVG8obWFwX2EyODVlNWZiNTA3YTRiNjg4NDEzYThhM2I4YjMwYmNmKTsKICAgICAgICAgICAgCiAgICAKICAgICAgICAgICAgdmFyIGNpcmNsZV9tYXJrZXJfM2Q0NDlkNTNiY2YwNDUwNWE2MzliN2M2ODNiZmYzMzggPSBMLmNpcmNsZU1hcmtlcigKICAgICAgICAgICAgICAgIFszNi4xNjg4OTIyMjIwODk1NywtMTE1LjEzOTAyNTQ0OTc1MjhdLAogICAgICAgICAgICAgICAgewogICJidWJibGluZ01vdXNlRXZlbnRzIjogdHJ1ZSwKICAiY29sb3IiOiAiYmx1ZSIsCiAgImRhc2hBcnJheSI6IG51bGwsCiAgImRhc2hPZmZzZXQiOiBudWxsLAogICJmaWxsIjogdHJ1ZSwKICAiZmlsbENvbG9yIjogImJsdWUiLAogICJmaWxsT3BhY2l0eSI6IDAuNiwKICAiZmlsbFJ1bGUiOiAiZXZlbm9kZCIsCiAgImxpbmVDYXAiOiAicm91bmQiLAogICJsaW5lSm9pbiI6ICJyb3VuZCIsCiAgIm9wYWNpdHkiOiAxLjAsCiAgInJhZGl1cyI6IDUsCiAgInN0cm9rZSI6IHRydWUsCiAgIndlaWdodCI6IDMKfQogICAgICAgICAgICAgICAgKS5hZGRUbyhtYXBfYTI4NWU1ZmI1MDdhNGI2ODg0MTNhOGEzYjhiMzBiY2YpOwogICAgICAgICAgICAKICAgIAogICAgICAgICAgICB2YXIgcG9wdXBfNWU3MjVlMjhhNTg0NDI2Y2E0NWVjZmRiMjAwNDY3MzQgPSBMLnBvcHVwKHttYXhXaWR0aDogJzMwMCd9KTsKCiAgICAgICAgICAgIAogICAgICAgICAgICAgICAgdmFyIGh0bWxfOTY1OGMxMzI2ZjYwNDU5ZThlNDE4OGY3OTkwOTdkYTUgPSAkKCc8ZGl2IGlkPSJodG1sXzk2NThjMTMyNmY2MDQ1OWU4ZTQxODhmNzk5MDk3ZGE1IiBzdHlsZT0id2lkdGg6IDEwMC4wJTsgaGVpZ2h0OiAxMDAuMCU7Ij5DYXNpbm88L2Rpdj4nKVswXTsKICAgICAgICAgICAgICAgIHBvcHVwXzVlNzI1ZTI4YTU4NDQyNmNhNDVlY2ZkYjIwMDQ2NzM0LnNldENvbnRlbnQoaHRtbF85NjU4YzEzMjZmNjA0NTllOGU0MTg4Zjc5OTA5N2RhNSk7CiAgICAgICAgICAgIAoKICAgICAgICAgICAgY2lyY2xlX21hcmtlcl8zZDQ0OWQ1M2JjZjA0NTA1YTYzOWI3YzY4M2JmZjMzOC5iaW5kUG9wdXAocG9wdXBfNWU3MjVlMjhhNTg0NDI2Y2E0NWVjZmRiMjAwNDY3MzQpOwoKICAgICAgICAgICAgCiAgICAgICAgCiAgICAKICAgICAgICAgICAgdmFyIGNpcmNsZV9tYXJrZXJfOTgzNWU2ZDMyZTM5NGVlYWJhMzVmNzBmMjZjMDkzN2QgPSBMLmNpcmNsZU1hcmtlcigKICAgICAgICAgICAgICAgIFszNi4xNzEyNjQ2NDg0Mzc1LC0xMTUuMTM4ODI0NDYyODkwNjJdLAogICAgICAgICAgICAgICAgewogICJidWJibGluZ01vdXNlRXZlbnRzIjogdHJ1ZSwKICAiY29sb3IiOiAiYmx1ZSIsCiAgImRhc2hBcnJheSI6IG51bGwsCiAgImRhc2hPZmZzZXQiOiBudWxsLAogICJmaWxsIjogdHJ1ZSwKICAiZmlsbENvbG9yIjogImJsdWUiLAogICJmaWxsT3BhY2l0eSI6IDAuNiwKICAiZmlsbFJ1bGUiOiAiZXZlbm9kZCIsCiAgImxpbmVDYXAiOiAicm91bmQiLAogICJsaW5lSm9pbiI6ICJyb3VuZCIsCiAgIm9wYWNpdHkiOiAxLjAsCiAgInJhZGl1cyI6IDUsCiAgInN0cm9rZSI6IHRydWUsCiAgIndlaWdodCI6IDMKfQogICAgICAgICAgICAgICAgKS5hZGRUbyhtYXBfYTI4NWU1ZmI1MDdhNGI2ODg0MTNhOGEzYjhiMzBiY2YpOwogICAgICAgICAgICAKICAgIAogICAgICAgICAgICB2YXIgcG9wdXBfMmQ0ZjZlOGYzN2UzNGVkNjk0ZWRlNDc1YTNkZTMyMTcgPSBMLnBvcHVwKHttYXhXaWR0aDogJzMwMCd9KTsKCiAgICAgICAgICAgIAogICAgICAgICAgICAgICAgdmFyIGh0bWxfMjQ3MjMwOTAxYjgwNDg3MmFkMTkxYTRmM2M5ZTdkNTkgPSAkKCc8ZGl2IGlkPSJodG1sXzI0NzIzMDkwMWI4MDQ4NzJhZDE5MWE0ZjNjOWU3ZDU5IiBzdHlsZT0id2lkdGg6IDEwMC4wJTsgaGVpZ2h0OiAxMDAuMCU7Ij5DYXNpbm88L2Rpdj4nKVswXTsKICAgICAgICAgICAgICAgIHBvcHVwXzJkNGY2ZThmMzdlMzRlZDY5NGVkZTQ3NWEzZGUzMjE3LnNldENvbnRlbnQoaHRtbF8yNDcyMzA5MDFiODA0ODcyYWQxOTFhNGYzYzllN2Q1OSk7CiAgICAgICAgICAgIAoKICAgICAgICAgICAgY2lyY2xlX21hcmtlcl85ODM1ZTZkMzJlMzk0ZWVhYmEzNWY3MGYyNmMwOTM3ZC5iaW5kUG9wdXAocG9wdXBfMmQ0ZjZlOGYzN2UzNGVkNjk0ZWRlNDc1YTNkZTMyMTcpOwoKICAgICAgICAgICAgCiAgICAgICAgCiAgICAKICAgICAgICAgICAgdmFyIGNpcmNsZV9tYXJrZXJfYWNmOWEzOTNiMWJiNGY0OTk2NzRiMDlkMzYzMDRmODEgPSBMLmNpcmNsZU1hcmtlcigKICAgICAgICAgICAgICAgIFszNi4xNjczMDA1NDc0NTE0MjYsLTExNS4xMzY3MTU0OTg0MTA3NV0sCiAgICAgICAgICAgICAgICB7CiAgImJ1YmJsaW5nTW91c2VFdmVudHMiOiB0cnVlLAogICJjb2xvciI6ICJibHVlIiwKICAiZGFzaEFycmF5IjogbnVsbCwKICAiZGFzaE9mZnNldCI6IG51bGwsCiAgImZpbGwiOiB0cnVlLAogICJmaWxsQ29sb3IiOiAiYmx1ZSIsCiAgImZpbGxPcGFjaXR5IjogMC42LAogICJmaWxsUnVsZSI6ICJldmVub2RkIiwKICAibGluZUNhcCI6ICJyb3VuZCIsCiAgImxpbmVKb2luIjogInJvdW5kIiwKICAib3BhY2l0eSI6IDEuMCwKICAicmFkaXVzIjogNSwKICAic3Ryb2tlIjogdHJ1ZSwKICAid2VpZ2h0IjogMwp9CiAgICAgICAgICAgICAgICApLmFkZFRvKG1hcF9hMjg1ZTVmYjUwN2E0YjY4ODQxM2E4YTNiOGIzMGJjZik7CiAgICAgICAgICAgIAogICAgCiAgICAgICAgICAgIHZhciBwb3B1cF9mMzNiZmFmM2EyYmQ0MjkwOGEwM2IzMmVmNGE1ZmJiNSA9IEwucG9wdXAoe21heFdpZHRoOiAnMzAwJ30pOwoKICAgICAgICAgICAgCiAgICAgICAgICAgICAgICB2YXIgaHRtbF8wYTkxNWVmNDI1OTc0MTQxYmExZDZiYTFlM2Q2YWM3MSA9ICQoJzxkaXYgaWQ9Imh0bWxfMGE5MTVlZjQyNTk3NDE0MWJhMWQ2YmExZTNkNmFjNzEiIHN0eWxlPSJ3aWR0aDogMTAwLjAlOyBoZWlnaHQ6IDEwMC4wJTsiPkJ1aWxkaW5nPC9kaXY+JylbMF07CiAgICAgICAgICAgICAgICBwb3B1cF9mMzNiZmFmM2EyYmQ0MjkwOGEwM2IzMmVmNGE1ZmJiNS5zZXRDb250ZW50KGh0bWxfMGE5MTVlZjQyNTk3NDE0MWJhMWQ2YmExZTNkNmFjNzEpOwogICAgICAgICAgICAKCiAgICAgICAgICAgIGNpcmNsZV9tYXJrZXJfYWNmOWEzOTNiMWJiNGY0OTk2NzRiMDlkMzYzMDRmODEuYmluZFBvcHVwKHBvcHVwX2YzM2JmYWYzYTJiZDQyOTA4YTAzYjMyZWY0YTVmYmI1KTsKCiAgICAgICAgICAgIAogICAgICAgIAogICAgCiAgICAgICAgICAgIHZhciBjaXJjbGVfbWFya2VyX2QyYjAzYzVjY2I2MjQwYmM4YmZlMzBjOTJhOTc5ZTZkID0gTC5jaXJjbGVNYXJrZXIoCiAgICAgICAgICAgICAgICBbMzYuMTcwMjQ4NjcxNDM1Mjk2LC0xMTUuMTQyOTUxODYxMzI2NTVdLAogICAgICAgICAgICAgICAgewogICJidWJibGluZ01vdXNlRXZlbnRzIjogdHJ1ZSwKICAiY29sb3IiOiAiYmx1ZSIsCiAgImRhc2hBcnJheSI6IG51bGwsCiAgImRhc2hPZmZzZXQiOiBudWxsLAogICJmaWxsIjogdHJ1ZSwKICAiZmlsbENvbG9yIjogImJsdWUiLAogICJmaWxsT3BhY2l0eSI6IDAuNiwKICAiZmlsbFJ1bGUiOiAiZXZlbm9kZCIsCiAgImxpbmVDYXAiOiAicm91bmQiLAogICJsaW5lSm9pbiI6ICJyb3VuZCIsCiAgIm9wYWNpdHkiOiAxLjAsCiAgInJhZGl1cyI6IDUsCiAgInN0cm9rZSI6IHRydWUsCiAgIndlaWdodCI6IDMKfQogICAgICAgICAgICAgICAgKS5hZGRUbyhtYXBfYTI4NWU1ZmI1MDdhNGI2ODg0MTNhOGEzYjhiMzBiY2YpOwogICAgICAgICAgICAKICAgIAogICAgICAgICAgICB2YXIgcG9wdXBfNjFkNWE3MDJmNzAwNDIzOWE1NWY2MzVmYmRkMzgwZmQgPSBMLnBvcHVwKHttYXhXaWR0aDogJzMwMCd9KTsKCiAgICAgICAgICAgIAogICAgICAgICAgICAgICAgdmFyIGh0bWxfOGVkYzc3YWFhZmNiNDMxMjkzMWRmZjE1MWQ5NGEwNGIgPSAkKCc8ZGl2IGlkPSJodG1sXzhlZGM3N2FhYWZjYjQzMTI5MzFkZmYxNTFkOTRhMDRiIiBzdHlsZT0id2lkdGg6IDEwMC4wJTsgaGVpZ2h0OiAxMDAuMCU7Ij5CYXI8L2Rpdj4nKVswXTsKICAgICAgICAgICAgICAgIHBvcHVwXzYxZDVhNzAyZjcwMDQyMzlhNTVmNjM1ZmJkZDM4MGZkLnNldENvbnRlbnQoaHRtbF84ZWRjNzdhYWFmY2I0MzEyOTMxZGZmMTUxZDk0YTA0Yik7CiAgICAgICAgICAgIAoKICAgICAgICAgICAgY2lyY2xlX21hcmtlcl9kMmIwM2M1Y2NiNjI0MGJjOGJmZTMwYzkyYTk3OWU2ZC5iaW5kUG9wdXAocG9wdXBfNjFkNWE3MDJmNzAwNDIzOWE1NWY2MzVmYmRkMzgwZmQpOwoKICAgICAgICAgICAgCiAgICAgICAgCiAgICAKICAgICAgICAgICAgdmFyIGNpcmNsZV9tYXJrZXJfY2I0ZWNlMTQxODBiNDMxN2E4NTNkNTQ2NjcyZmQ0OWMgPSBMLmNpcmNsZU1hcmtlcigKICAgICAgICAgICAgICAgIFszNi4xNzEwMDY4ODQxOTIwNCwtMTE1LjE0MzczOTM2MDAwNjQ5XSwKICAgICAgICAgICAgICAgIHsKICAiYnViYmxpbmdNb3VzZUV2ZW50cyI6IHRydWUsCiAgImNvbG9yIjogImJsdWUiLAogICJkYXNoQXJyYXkiOiBudWxsLAogICJkYXNoT2Zmc2V0IjogbnVsbCwKICAiZmlsbCI6IHRydWUsCiAgImZpbGxDb2xvciI6ICJibHVlIiwKICAiZmlsbE9wYWNpdHkiOiAwLjYsCiAgImZpbGxSdWxlIjogImV2ZW5vZGQiLAogICJsaW5lQ2FwIjogInJvdW5kIiwKICAibGluZUpvaW4iOiAicm91bmQiLAogICJvcGFjaXR5IjogMS4wLAogICJyYWRpdXMiOiA1LAogICJzdHJva2UiOiB0cnVlLAogICJ3ZWlnaHQiOiAzCn0KICAgICAgICAgICAgICAgICkuYWRkVG8obWFwX2EyODVlNWZiNTA3YTRiNjg4NDEzYThhM2I4YjMwYmNmKTsKICAgICAgICAgICAgCiAgICAKICAgICAgICAgICAgdmFyIHBvcHVwXzNhMjU0YmE1NDdlOTRmZjg4ZmExYWQ3YWQzNDM1ZGEzID0gTC5wb3B1cCh7bWF4V2lkdGg6ICczMDAnfSk7CgogICAgICAgICAgICAKICAgICAgICAgICAgICAgIHZhciBodG1sXzAzZjc1NTBmNjJlNTQ3NGM4YjAyNDc5ZTQ4NzE5NjFkID0gJCgnPGRpdiBpZD0iaHRtbF8wM2Y3NTUwZjYyZTU0NzRjOGIwMjQ3OWU0ODcxOTYxZCIgc3R5bGU9IndpZHRoOiAxMDAuMCU7IGhlaWdodDogMTAwLjAlOyI+QnVzIFN0YXRpb248L2Rpdj4nKVswXTsKICAgICAgICAgICAgICAgIHBvcHVwXzNhMjU0YmE1NDdlOTRmZjg4ZmExYWQ3YWQzNDM1ZGEzLnNldENvbnRlbnQoaHRtbF8wM2Y3NTUwZjYyZTU0NzRjOGIwMjQ3OWU0ODcxOTYxZCk7CiAgICAgICAgICAgIAoKICAgICAgICAgICAgY2lyY2xlX21hcmtlcl9jYjRlY2UxNDE4MGI0MzE3YTg1M2Q1NDY2NzJmZDQ5Yy5iaW5kUG9wdXAocG9wdXBfM2EyNTRiYTU0N2U5NGZmODhmYTFhZDdhZDM0MzVkYTMpOwoKICAgICAgICAgICAgCiAgICAgICAgCiAgICAKICAgICAgICAgICAgdmFyIGNpcmNsZV9tYXJrZXJfNWIzOTNhOGI4OGNhNDBiN2FiY2Y5MThhOWEzZjljYzIgPSBMLmNpcmNsZU1hcmtlcigKICAgICAgICAgICAgICAgIFszNi4xNzA3MjQsLTExNS4xNDQxMjldLAogICAgICAgICAgICAgICAgewogICJidWJibGluZ01vdXNlRXZlbnRzIjogdHJ1ZSwKICAiY29sb3IiOiAiYmx1ZSIsCiAgImRhc2hBcnJheSI6IG51bGwsCiAgImRhc2hPZmZzZXQiOiBudWxsLAogICJmaWxsIjogdHJ1ZSwKICAiZmlsbENvbG9yIjogImJsdWUiLAogICJmaWxsT3BhY2l0eSI6IDAuNiwKICAiZmlsbFJ1bGUiOiAiZXZlbm9kZCIsCiAgImxpbmVDYXAiOiAicm91bmQiLAogICJsaW5lSm9pbiI6ICJyb3VuZCIsCiAgIm9wYWNpdHkiOiAxLjAsCiAgInJhZGl1cyI6IDUsCiAgInN0cm9rZSI6IHRydWUsCiAgIndlaWdodCI6IDMKfQogICAgICAgICAgICAgICAgKS5hZGRUbyhtYXBfYTI4NWU1ZmI1MDdhNGI2ODg0MTNhOGEzYjhiMzBiY2YpOwogICAgICAgICAgICAKICAgIAogICAgICAgICAgICB2YXIgcG9wdXBfNDk1OTJiZDk5ZGJmNDIzOTk4Y2FkODIwNWY0YzdlYTIgPSBMLnBvcHVwKHttYXhXaWR0aDogJzMwMCd9KTsKCiAgICAgICAgICAgIAogICAgICAgICAgICAgICAgdmFyIGh0bWxfMDg0ODgwMjhkMjY4NDkyY2FlZDE2NGE4YWQ0OTljYzIgPSAkKCc8ZGl2IGlkPSJodG1sXzA4NDg4MDI4ZDI2ODQ5MmNhZWQxNjRhOGFkNDk5Y2MyIiBzdHlsZT0id2lkdGg6IDEwMC4wJTsgaGVpZ2h0OiAxMDAuMCU7Ij5DYXNpbm88L2Rpdj4nKVswXTsKICAgICAgICAgICAgICAgIHBvcHVwXzQ5NTkyYmQ5OWRiZjQyMzk5OGNhZDgyMDVmNGM3ZWEyLnNldENvbnRlbnQoaHRtbF8wODQ4ODAyOGQyNjg0OTJjYWVkMTY0YThhZDQ5OWNjMik7CiAgICAgICAgICAgIAoKICAgICAgICAgICAgY2lyY2xlX21hcmtlcl81YjM5M2E4Yjg4Y2E0MGI3YWJjZjkxOGE5YTNmOWNjMi5iaW5kUG9wdXAocG9wdXBfNDk1OTJiZDk5ZGJmNDIzOTk4Y2FkODIwNWY0YzdlYTIpOwoKICAgICAgICAgICAgCiAgICAgICAgCiAgICAKICAgICAgICAgICAgdmFyIGNpcmNsZV9tYXJrZXJfY2MzY2NkOTlmZjM1NGEwOWIzZWM3ZTVlZmM2NTcwN2UgPSBMLmNpcmNsZU1hcmtlcigKICAgICAgICAgICAgICAgIFszNi4xNzA4NDUwMzE3MzgyOCwtMTE1LjE0Mzk3NDMwNDE5OTIyXSwKICAgICAgICAgICAgICAgIHsKICAiYnViYmxpbmdNb3VzZUV2ZW50cyI6IHRydWUsCiAgImNvbG9yIjogImJsdWUiLAogICJkYXNoQXJyYXkiOiBudWxsLAogICJkYXNoT2Zmc2V0IjogbnVsbCwKICAiZmlsbCI6IHRydWUsCiAgImZpbGxDb2xvciI6ICJibHVlIiwKICAiZmlsbE9wYWNpdHkiOiAwLjYsCiAgImZpbGxSdWxlIjogImV2ZW5vZGQiLAogICJsaW5lQ2FwIjogInJvdW5kIiwKICAibGluZUpvaW4iOiAicm91bmQiLAogICJvcGFjaXR5IjogMS4wLAogICJyYWRpdXMiOiA1LAogICJzdHJva2UiOiB0cnVlLAogICJ3ZWlnaHQiOiAzCn0KICAgICAgICAgICAgICAgICkuYWRkVG8obWFwX2EyODVlNWZiNTA3YTRiNjg4NDEzYThhM2I4YjMwYmNmKTsKICAgICAgICAgICAgCiAgICAKICAgICAgICAgICAgdmFyIHBvcHVwXzg3NjZmMzQwY2Q1ZDQ2OGM5YWE4NzM4OTY5YjFhODQwID0gTC5wb3B1cCh7bWF4V2lkdGg6ICczMDAnfSk7CgogICAgICAgICAgICAKICAgICAgICAgICAgICAgIHZhciBodG1sXzFmODUyMDY4NTU5ODRiNTQ4NzkyOTMxODkwOTYyYTUxID0gJCgnPGRpdiBpZD0iaHRtbF8xZjg1MjA2ODU1OTg0YjU0ODc5MjkzMTg5MDk2MmE1MSIgc3R5bGU9IndpZHRoOiAxMDAuMCU7IGhlaWdodDogMTAwLjAlOyI+Q2FzaW5vPC9kaXY+JylbMF07CiAgICAgICAgICAgICAgICBwb3B1cF84NzY2ZjM0MGNkNWQ0NjhjOWFhODczODk2OWIxYTg0MC5zZXRDb250ZW50KGh0bWxfMWY4NTIwNjg1NTk4NGI1NDg3OTI5MzE4OTA5NjJhNTEpOwogICAgICAgICAgICAKCiAgICAgICAgICAgIGNpcmNsZV9tYXJrZXJfY2MzY2NkOTlmZjM1NGEwOWIzZWM3ZTVlZmM2NTcwN2UuYmluZFBvcHVwKHBvcHVwXzg3NjZmMzQwY2Q1ZDQ2OGM5YWE4NzM4OTY5YjFhODQwKTsKCiAgICAgICAgICAgIAogICAgICAgIAogICAgCiAgICAgICAgICAgIHZhciBjaXJjbGVfbWFya2VyX2Y3MWZiN2U1OTNjNjQyNDBiNjA1NDRlMGZiMzdiZmJiID0gTC5jaXJjbGVNYXJrZXIoCiAgICAgICAgICAgICAgICBbMzYuMTcxMzksLTExNS4xNDQ1Nl0sCiAgICAgICAgICAgICAgICB7CiAgImJ1YmJsaW5nTW91c2VFdmVudHMiOiB0cnVlLAogICJjb2xvciI6ICJibHVlIiwKICAiZGFzaEFycmF5IjogbnVsbCwKICAiZGFzaE9mZnNldCI6IG51bGwsCiAgImZpbGwiOiB0cnVlLAogICJmaWxsQ29sb3IiOiAiYmx1ZSIsCiAgImZpbGxPcGFjaXR5IjogMC42LAogICJmaWxsUnVsZSI6ICJldmVub2RkIiwKICAibGluZUNhcCI6ICJyb3VuZCIsCiAgImxpbmVKb2luIjogInJvdW5kIiwKICAib3BhY2l0eSI6IDEuMCwKICAicmFkaXVzIjogNSwKICAic3Ryb2tlIjogdHJ1ZSwKICAid2VpZ2h0IjogMwp9CiAgICAgICAgICAgICAgICApLmFkZFRvKG1hcF9hMjg1ZTVmYjUwN2E0YjY4ODQxM2E4YTNiOGIzMGJjZik7CiAgICAgICAgICAgIAogICAgCiAgICAgICAgICAgIHZhciBwb3B1cF84YzIxMzJiMzUzMzg0ODYzODllZGViMDEwZjZiMDM2OSA9IEwucG9wdXAoe21heFdpZHRoOiAnMzAwJ30pOwoKICAgICAgICAgICAgCiAgICAgICAgICAgICAgICB2YXIgaHRtbF9hY2U3NzY0ZmE2Njk0MzIwYTMxOGZhYzQ5ZjNhMDEyMCA9ICQoJzxkaXYgaWQ9Imh0bWxfYWNlNzc2NGZhNjY5NDMyMGEzMThmYWM0OWYzYTAxMjAiIHN0eWxlPSJ3aWR0aDogMTAwLjAlOyBoZWlnaHQ6IDEwMC4wJTsiPkJhcjwvZGl2PicpWzBdOwogICAgICAgICAgICAgICAgcG9wdXBfOGMyMTMyYjM1MzM4NDg2Mzg5ZWRlYjAxMGY2YjAzNjkuc2V0Q29udGVudChodG1sX2FjZTc3NjRmYTY2OTQzMjBhMzE4ZmFjNDlmM2EwMTIwKTsKICAgICAgICAgICAgCgogICAgICAgICAgICBjaXJjbGVfbWFya2VyX2Y3MWZiN2U1OTNjNjQyNDBiNjA1NDRlMGZiMzdiZmJiLmJpbmRQb3B1cChwb3B1cF84YzIxMzJiMzUzMzg0ODYzODllZGViMDEwZjZiMDM2OSk7CgogICAgICAgICAgICAKICAgICAgICAKICAgIAogICAgICAgICAgICB2YXIgY2lyY2xlX21hcmtlcl82ZWIzOTA1MjcwZGE0MjBhOGNmNjhlZWRkMGZhYzlmZSA9IEwuY2lyY2xlTWFya2VyKAogICAgICAgICAgICAgICAgWzM2LjE3MzI5NSwtMTE1LjE0NDE2NF0sCiAgICAgICAgICAgICAgICB7CiAgImJ1YmJsaW5nTW91c2VFdmVudHMiOiB0cnVlLAogICJjb2xvciI6ICJibHVlIiwKICAiZGFzaEFycmF5IjogbnVsbCwKICAiZGFzaE9mZnNldCI6IG51bGwsCiAgImZpbGwiOiB0cnVlLAogICJmaWxsQ29sb3IiOiAiYmx1ZSIsCiAgImZpbGxPcGFjaXR5IjogMC42LAogICJmaWxsUnVsZSI6ICJldmVub2RkIiwKICAibGluZUNhcCI6ICJyb3VuZCIsCiAgImxpbmVKb2luIjogInJvdW5kIiwKICAib3BhY2l0eSI6IDEuMCwKICAicmFkaXVzIjogNSwKICAic3Ryb2tlIjogdHJ1ZSwKICAid2VpZ2h0IjogMwp9CiAgICAgICAgICAgICAgICApLmFkZFRvKG1hcF9hMjg1ZTVmYjUwN2E0YjY4ODQxM2E4YTNiOGIzMGJjZik7CiAgICAgICAgICAgIAogICAgCiAgICAgICAgICAgIHZhciBwb3B1cF8zODg3ODA0NTQyMDQ0ZjQ5OGVkOTExNGYzNzNhYmU5MSA9IEwucG9wdXAoe21heFdpZHRoOiAnMzAwJ30pOwoKICAgICAgICAgICAgCiAgICAgICAgICAgICAgICB2YXIgaHRtbF9iZDA3MzFmNTBkNWE0ZTgxYmYzOWExNjk0ZmY0ZTgxMiA9ICQoJzxkaXYgaWQ9Imh0bWxfYmQwNzMxZjUwZDVhNGU4MWJmMzlhMTY5NGZmNGU4MTIiIHN0eWxlPSJ3aWR0aDogMTAwLjAlOyBoZWlnaHQ6IDEwMC4wJTsiPkJ1aWxkaW5nPC9kaXY+JylbMF07CiAgICAgICAgICAgICAgICBwb3B1cF8zODg3ODA0NTQyMDQ0ZjQ5OGVkOTExNGYzNzNhYmU5MS5zZXRDb250ZW50KGh0bWxfYmQwNzMxZjUwZDVhNGU4MWJmMzlhMTY5NGZmNGU4MTIpOwogICAgICAgICAgICAKCiAgICAgICAgICAgIGNpcmNsZV9tYXJrZXJfNmViMzkwNTI3MGRhNDIwYThjZjY4ZWVkZDBmYWM5ZmUuYmluZFBvcHVwKHBvcHVwXzM4ODc4MDQ1NDIwNDRmNDk4ZWQ5MTE0ZjM3M2FiZTkxKTsKCiAgICAgICAgICAgIAogICAgICAgIAogICAgCiAgICAgICAgICAgIHZhciBjaXJjbGVfbWFya2VyXzMwNzRkYWFiZWVlYzQ0YWFiMGRmZDQyMzE4NjE1MWI1ID0gTC5jaXJjbGVNYXJrZXIoCiAgICAgICAgICAgICAgICBbMzYuMTc1MjEwMjg1NjQ5NjUsLTExNS4xNDA5NzczMTU2OTc2N10sCiAgICAgICAgICAgICAgICB7CiAgImJ1YmJsaW5nTW91c2VFdmVudHMiOiB0cnVlLAogICJjb2xvciI6ICJibHVlIiwKICAiZGFzaEFycmF5IjogbnVsbCwKICAiZGFzaE9mZnNldCI6IG51bGwsCiAgImZpbGwiOiB0cnVlLAogICJmaWxsQ29sb3IiOiAiYmx1ZSIsCiAgImZpbGxPcGFjaXR5IjogMC42LAogICJmaWxsUnVsZSI6ICJldmVub2RkIiwKICAibGluZUNhcCI6ICJyb3VuZCIsCiAgImxpbmVKb2luIjogInJvdW5kIiwKICAib3BhY2l0eSI6IDEuMCwKICAicmFkaXVzIjogNSwKICAic3Ryb2tlIjogdHJ1ZSwKICAid2VpZ2h0IjogMwp9CiAgICAgICAgICAgICAgICApLmFkZFRvKG1hcF9hMjg1ZTVmYjUwN2E0YjY4ODQxM2E4YTNiOGIzMGJjZik7CiAgICAgICAgICAgIAogICAgCiAgICAgICAgICAgIHZhciBwb3B1cF9kYzc4NjE4MmRhNTI0OTBiYWMzMjY3ZWQ4ZTkxMjNkMCA9IEwucG9wdXAoe21heFdpZHRoOiAnMzAwJ30pOwoKICAgICAgICAgICAgCiAgICAgICAgICAgICAgICB2YXIgaHRtbF9lMmU5MDVkMjczMTY0M2UwOTIxMzE3NGVjZDNjZjdjYSA9ICQoJzxkaXYgaWQ9Imh0bWxfZTJlOTA1ZDI3MzE2NDNlMDkyMTMxNzRlY2QzY2Y3Y2EiIHN0eWxlPSJ3aWR0aDogMTAwLjAlOyBoZWlnaHQ6IDEwMC4wJTsiPlJvYWQ8L2Rpdj4nKVswXTsKICAgICAgICAgICAgICAgIHBvcHVwX2RjNzg2MTgyZGE1MjQ5MGJhYzMyNjdlZDhlOTEyM2QwLnNldENvbnRlbnQoaHRtbF9lMmU5MDVkMjczMTY0M2UwOTIxMzE3NGVjZDNjZjdjYSk7CiAgICAgICAgICAgIAoKICAgICAgICAgICAgY2lyY2xlX21hcmtlcl8zMDc0ZGFhYmVlZWM0NGFhYjBkZmQ0MjMxODYxNTFiNS5iaW5kUG9wdXAocG9wdXBfZGM3ODYxODJkYTUyNDkwYmFjMzI2N2VkOGU5MTIzZDApOwoKICAgICAgICAgICAgCiAgICAgICAgCiAgICAKICAgICAgICAgICAgdmFyIGNpcmNsZV9tYXJrZXJfYjViOWE4OWNlN2E2NGEwZDhjMmQ0NGJkYmI3YTA4YzcgPSBMLmNpcmNsZU1hcmtlcigKICAgICAgICAgICAgICAgIFszNi4xNzEyNjI2NywtMTE1LjE0NjIwOTA0XSwKICAgICAgICAgICAgICAgIHsKICAiYnViYmxpbmdNb3VzZUV2ZW50cyI6IHRydWUsCiAgImNvbG9yIjogImJsdWUiLAogICJkYXNoQXJyYXkiOiBudWxsLAogICJkYXNoT2Zmc2V0IjogbnVsbCwKICAiZmlsbCI6IHRydWUsCiAgImZpbGxDb2xvciI6ICJibHVlIiwKICAiZmlsbE9wYWNpdHkiOiAwLjYsCiAgImZpbGxSdWxlIjogImV2ZW5vZGQiLAogICJsaW5lQ2FwIjogInJvdW5kIiwKICAibGluZUpvaW4iOiAicm91bmQiLAogICJvcGFjaXR5IjogMS4wLAogICJyYWRpdXMiOiA1LAogICJzdHJva2UiOiB0cnVlLAogICJ3ZWlnaHQiOiAzCn0KICAgICAgICAgICAgICAgICkuYWRkVG8obWFwX2EyODVlNWZiNTA3YTRiNjg4NDEzYThhM2I4YjMwYmNmKTsKICAgICAgICAgICAgCiAgICAKICAgICAgICAgICAgdmFyIHBvcHVwXzY0MWVjMDUyNWNjNTQ0ZGFiZTZiZTVkMjhmMzg4YjFhID0gTC5wb3B1cCh7bWF4V2lkdGg6ICczMDAnfSk7CgogICAgICAgICAgICAKICAgICAgICAgICAgICAgIHZhciBodG1sXzgzMTYyMTlhNmJkZTRjZDc4OGUwYjFmNDY4YzM4MTlmID0gJCgnPGRpdiBpZD0iaHRtbF84MzE2MjE5YTZiZGU0Y2Q3ODhlMGIxZjQ2OGMzODE5ZiIgc3R5bGU9IndpZHRoOiAxMDAuMCU7IGhlaWdodDogMTAwLjAlOyI+Q2FzaW5vPC9kaXY+JylbMF07CiAgICAgICAgICAgICAgICBwb3B1cF82NDFlYzA1MjVjYzU0NGRhYmU2YmU1ZDI4ZjM4OGIxYS5zZXRDb250ZW50KGh0bWxfODMxNjIxOWE2YmRlNGNkNzg4ZTBiMWY0NjhjMzgxOWYpOwogICAgICAgICAgICAKCiAgICAgICAgICAgIGNpcmNsZV9tYXJrZXJfYjViOWE4OWNlN2E2NGEwZDhjMmQ0NGJkYmI3YTA4YzcuYmluZFBvcHVwKHBvcHVwXzY0MWVjMDUyNWNjNTQ0ZGFiZTZiZTVkMjhmMzg4YjFhKTsKCiAgICAgICAgICAgIAogICAgICAgIAogICAgCiAgICAgICAgICAgIHZhciBjaXJjbGVfbWFya2VyXzYwMGEwODdmNzAxZTRjMTBiYjViZGU5ODRkZTQwNWFlID0gTC5jaXJjbGVNYXJrZXIoCiAgICAgICAgICAgICAgICBbMzYuMTcxOTEzMTIwNTQyNzYsLTExNS4xNDY0MjAzMTUyODEyNl0sCiAgICAgICAgICAgICAgICB7CiAgImJ1YmJsaW5nTW91c2VFdmVudHMiOiB0cnVlLAogICJjb2xvciI6ICJibHVlIiwKICAiZGFzaEFycmF5IjogbnVsbCwKICAiZGFzaE9mZnNldCI6IG51bGwsCiAgImZpbGwiOiB0cnVlLAogICJmaWxsQ29sb3IiOiAiYmx1ZSIsCiAgImZpbGxPcGFjaXR5IjogMC42LAogICJmaWxsUnVsZSI6ICJldmVub2RkIiwKICAibGluZUNhcCI6ICJyb3VuZCIsCiAgImxpbmVKb2luIjogInJvdW5kIiwKICAib3BhY2l0eSI6IDEuMCwKICAicmFkaXVzIjogNSwKICAic3Ryb2tlIjogdHJ1ZSwKICAid2VpZ2h0IjogMwp9CiAgICAgICAgICAgICAgICApLmFkZFRvKG1hcF9hMjg1ZTVmYjUwN2E0YjY4ODQxM2E4YTNiOGIzMGJjZik7CiAgICAgICAgICAgIAogICAgCiAgICAgICAgICAgIHZhciBwb3B1cF81ZTY5NGIzMmFhZTI0OTY0YTY4OTZhNTY2MjNhMWYyNSA9IEwucG9wdXAoe21heFdpZHRoOiAnMzAwJ30pOwoKICAgICAgICAgICAgCiAgICAgICAgICAgICAgICB2YXIgaHRtbF9lYzcwMTRlYmEyOTQ0MGFmOWU3OGE3NjNhNmQ2ZDgyZSA9ICQoJzxkaXYgaWQ9Imh0bWxfZWM3MDE0ZWJhMjk0NDBhZjllNzhhNzYzYTZkNmQ4MmUiIHN0eWxlPSJ3aWR0aDogMTAwLjAlOyBoZWlnaHQ6IDEwMC4wJTsiPlJlbnRhbCBDYXIgTG9jYXRpb248L2Rpdj4nKVswXTsKICAgICAgICAgICAgICAgIHBvcHVwXzVlNjk0YjMyYWFlMjQ5NjRhNjg5NmE1NjYyM2ExZjI1LnNldENvbnRlbnQoaHRtbF9lYzcwMTRlYmEyOTQ0MGFmOWU3OGE3NjNhNmQ2ZDgyZSk7CiAgICAgICAgICAgIAoKICAgICAgICAgICAgY2lyY2xlX21hcmtlcl82MDBhMDg3ZjcwMWU0YzEwYmI1YmRlOTg0ZGU0MDVhZS5iaW5kUG9wdXAocG9wdXBfNWU2OTRiMzJhYWUyNDk2NGE2ODk2YTU2NjIzYTFmMjUpOwoKICAgICAgICAgICAgCiAgICAgICAgCiAgICAKICAgICAgICAgICAgdmFyIGNpcmNsZV9tYXJrZXJfNWNkMGY1NzVmN2IyNDMwYmI4MjFhN2RkNzFkOGMzODYgPSBMLmNpcmNsZU1hcmtlcigKICAgICAgICAgICAgICAgIFszNi4xNjkwOTQsLTExNS4xMzg2MDddLAogICAgICAgICAgICAgICAgewogICJidWJibGluZ01vdXNlRXZlbnRzIjogdHJ1ZSwKICAiY29sb3IiOiAiYmx1ZSIsCiAgImRhc2hBcnJheSI6IG51bGwsCiAgImRhc2hPZmZzZXQiOiBudWxsLAogICJmaWxsIjogdHJ1ZSwKICAiZmlsbENvbG9yIjogImJsdWUiLAogICJmaWxsT3BhY2l0eSI6IDAuNiwKICAiZmlsbFJ1bGUiOiAiZXZlbm9kZCIsCiAgImxpbmVDYXAiOiAicm91bmQiLAogICJsaW5lSm9pbiI6ICJyb3VuZCIsCiAgIm9wYWNpdHkiOiAxLjAsCiAgInJhZGl1cyI6IDUsCiAgInN0cm9rZSI6IHRydWUsCiAgIndlaWdodCI6IDMKfQogICAgICAgICAgICAgICAgKS5hZGRUbyhtYXBfYTI4NWU1ZmI1MDdhNGI2ODg0MTNhOGEzYjhiMzBiY2YpOwogICAgICAgICAgICAKICAgIAogICAgICAgICAgICB2YXIgcG9wdXBfYzgxYzc5MmIyN2VkNGM3Mzk5ZDQ4OTU2ZmJjZGQ0OWMgPSBMLnBvcHVwKHttYXhXaWR0aDogJzMwMCd9KTsKCiAgICAgICAgICAgIAogICAgICAgICAgICAgICAgdmFyIGh0bWxfMTgwY2MzYTAzOWY0NDhkM2FiZDM5NzRkZjJkZTE4MmMgPSAkKCc8ZGl2IGlkPSJodG1sXzE4MGNjM2EwMzlmNDQ4ZDNhYmQzOTc0ZGYyZGUxODJjIiBzdHlsZT0id2lkdGg6IDEwMC4wJTsgaGVpZ2h0OiAxMDAuMCU7Ij5Gb29kPC9kaXY+JylbMF07CiAgICAgICAgICAgICAgICBwb3B1cF9jODFjNzkyYjI3ZWQ0YzczOTlkNDg5NTZmYmNkZDQ5Yy5zZXRDb250ZW50KGh0bWxfMTgwY2MzYTAzOWY0NDhkM2FiZDM5NzRkZjJkZTE4MmMpOwogICAgICAgICAgICAKCiAgICAgICAgICAgIGNpcmNsZV9tYXJrZXJfNWNkMGY1NzVmN2IyNDMwYmI4MjFhN2RkNzFkOGMzODYuYmluZFBvcHVwKHBvcHVwX2M4MWM3OTJiMjdlZDRjNzM5OWQ0ODk1NmZiY2RkNDljKTsKCiAgICAgICAgICAgIAogICAgICAgIAogICAgCiAgICAgICAgICAgIHZhciBjaXJjbGVfbWFya2VyX2U4NDk4NDljYjA3MjQ4YmNhMmFhYTRhNjAyYTVlMDQwID0gTC5jaXJjbGVNYXJrZXIoCiAgICAgICAgICAgICAgICBbMzYuMTcxMDE1MzI3NTI0NDksLTExNS4xNDA1NDA5NTY2ODM2OF0sCiAgICAgICAgICAgICAgICB7CiAgImJ1YmJsaW5nTW91c2VFdmVudHMiOiB0cnVlLAogICJjb2xvciI6ICJibHVlIiwKICAiZGFzaEFycmF5IjogbnVsbCwKICAiZGFzaE9mZnNldCI6IG51bGwsCiAgImZpbGwiOiB0cnVlLAogICJmaWxsQ29sb3IiOiAiYmx1ZSIsCiAgImZpbGxPcGFjaXR5IjogMC42LAogICJmaWxsUnVsZSI6ICJldmVub2RkIiwKICAibGluZUNhcCI6ICJyb3VuZCIsCiAgImxpbmVKb2luIjogInJvdW5kIiwKICAib3BhY2l0eSI6IDEuMCwKICAicmFkaXVzIjogNSwKICAic3Ryb2tlIjogdHJ1ZSwKICAid2VpZ2h0IjogMwp9CiAgICAgICAgICAgICAgICApLmFkZFRvKG1hcF9hMjg1ZTVmYjUwN2E0YjY4ODQxM2E4YTNiOGIzMGJjZik7CiAgICAgICAgICAgIAogICAgCiAgICAgICAgICAgIHZhciBwb3B1cF8wZWExMGFhMjRjMzA0MWE3OWEyZmRlM2FlNzUxZTFhYiA9IEwucG9wdXAoe21heFdpZHRoOiAnMzAwJ30pOwoKICAgICAgICAgICAgCiAgICAgICAgICAgICAgICB2YXIgaHRtbF9jZGZjMjk2MjdjNDM0ZDc4YWMxMDg4MTVlNTE5Y2I1ZiA9ICQoJzxkaXYgaWQ9Imh0bWxfY2RmYzI5NjI3YzQzNGQ3OGFjMTA4ODE1ZTUxOWNiNWYiIHN0eWxlPSJ3aWR0aDogMTAwLjAlOyBoZWlnaHQ6IDEwMC4wJTsiPkJhcjwvZGl2PicpWzBdOwogICAgICAgICAgICAgICAgcG9wdXBfMGVhMTBhYTI0YzMwNDFhNzlhMmZkZTNhZTc1MWUxYWIuc2V0Q29udGVudChodG1sX2NkZmMyOTYyN2M0MzRkNzhhYzEwODgxNWU1MTljYjVmKTsKICAgICAgICAgICAgCgogICAgICAgICAgICBjaXJjbGVfbWFya2VyX2U4NDk4NDljYjA3MjQ4YmNhMmFhYTRhNjAyYTVlMDQwLmJpbmRQb3B1cChwb3B1cF8wZWExMGFhMjRjMzA0MWE3OWEyZmRlM2FlNzUxZTFhYik7CgogICAgICAgICAgICAKICAgICAgICAKICAgIAogICAgICAgICAgICB2YXIgY2lyY2xlX21hcmtlcl8zMmFkZDcyZGJmN2I0MDI2OGI0MWI5YzAxOTA5Y2Q0ZSA9IEwuY2lyY2xlTWFya2VyKAogICAgICAgICAgICAgICAgWzM2LjE3MjE0NiwtMTE1LjE0MTQwOV0sCiAgICAgICAgICAgICAgICB7CiAgImJ1YmJsaW5nTW91c2VFdmVudHMiOiB0cnVlLAogICJjb2xvciI6ICJibHVlIiwKICAiZGFzaEFycmF5IjogbnVsbCwKICAiZGFzaE9mZnNldCI6IG51bGwsCiAgImZpbGwiOiB0cnVlLAogICJmaWxsQ29sb3IiOiAiYmx1ZSIsCiAgImZpbGxPcGFjaXR5IjogMC42LAogICJmaWxsUnVsZSI6ICJldmVub2RkIiwKICAibGluZUNhcCI6ICJyb3VuZCIsCiAgImxpbmVKb2luIjogInJvdW5kIiwKICAib3BhY2l0eSI6IDEuMCwKICAicmFkaXVzIjogNSwKICAic3Ryb2tlIjogdHJ1ZSwKICAid2VpZ2h0IjogMwp9CiAgICAgICAgICAgICAgICApLmFkZFRvKG1hcF9hMjg1ZTVmYjUwN2E0YjY4ODQxM2E4YTNiOGIzMGJjZik7CiAgICAgICAgICAgIAogICAgCiAgICAgICAgICAgIHZhciBwb3B1cF81ZDJiMDc2YjE3OGY0YzBlYjhjYTRjMzYwOWMwN2E2NCA9IEwucG9wdXAoe21heFdpZHRoOiAnMzAwJ30pOwoKICAgICAgICAgICAgCiAgICAgICAgICAgICAgICB2YXIgaHRtbF8zYmZiNDQxNjFkNWU0MmVkYjZiODkyZWM1YjRjYmU0MyA9ICQoJzxkaXYgaWQ9Imh0bWxfM2JmYjQ0MTYxZDVlNDJlZGI2Yjg5MmVjNWI0Y2JlNDMiIHN0eWxlPSJ3aWR0aDogMTAwLjAlOyBoZWlnaHQ6IDEwMC4wJTsiPkNhc2lubzwvZGl2PicpWzBdOwogICAgICAgICAgICAgICAgcG9wdXBfNWQyYjA3NmIxNzhmNGMwZWI4Y2E0YzM2MDljMDdhNjQuc2V0Q29udGVudChodG1sXzNiZmI0NDE2MWQ1ZTQyZWRiNmI4OTJlYzViNGNiZTQzKTsKICAgICAgICAgICAgCgogICAgICAgICAgICBjaXJjbGVfbWFya2VyXzMyYWRkNzJkYmY3YjQwMjY4YjQxYjljMDE5MDljZDRlLmJpbmRQb3B1cChwb3B1cF81ZDJiMDc2YjE3OGY0YzBlYjhjYTRjMzYwOWMwN2E2NCk7CgogICAgICAgICAgICAKICAgICAgICAKICAgIAogICAgICAgICAgICB2YXIgY2lyY2xlX21hcmtlcl83ZjlhNjE2ZDk3MGM0NmVkOGJlOGYxMWY2ZWUxMDZkMCA9IEwuY2lyY2xlTWFya2VyKAogICAgICAgICAgICAgICAgWzM2LjE3MTA5MzczODIwMDg5LC0xMTUuMTQyNTc2OTU2NTE4MTNdLAogICAgICAgICAgICAgICAgewogICJidWJibGluZ01vdXNlRXZlbnRzIjogdHJ1ZSwKICAiY29sb3IiOiAiYmx1ZSIsCiAgImRhc2hBcnJheSI6IG51bGwsCiAgImRhc2hPZmZzZXQiOiBudWxsLAogICJmaWxsIjogdHJ1ZSwKICAiZmlsbENvbG9yIjogImJsdWUiLAogICJmaWxsT3BhY2l0eSI6IDAuNiwKICAiZmlsbFJ1bGUiOiAiZXZlbm9kZCIsCiAgImxpbmVDYXAiOiAicm91bmQiLAogICJsaW5lSm9pbiI6ICJyb3VuZCIsCiAgIm9wYWNpdHkiOiAxLjAsCiAgInJhZGl1cyI6IDUsCiAgInN0cm9rZSI6IHRydWUsCiAgIndlaWdodCI6IDMKfQogICAgICAgICAgICAgICAgKS5hZGRUbyhtYXBfYTI4NWU1ZmI1MDdhNGI2ODg0MTNhOGEzYjhiMzBiY2YpOwogICAgICAgICAgICAKICAgIAogICAgICAgICAgICB2YXIgcG9wdXBfN2U4MWZlMjdmMjdkNGU1ZjlhNDI4N2Q2YmUyMmUzMTQgPSBMLnBvcHVwKHttYXhXaWR0aDogJzMwMCd9KTsKCiAgICAgICAgICAgIAogICAgICAgICAgICAgICAgdmFyIGh0bWxfMDlhZmY4ZGZkMmY4NDg0MzkzNzU1NWJkOTFjNDM3YzYgPSAkKCc8ZGl2IGlkPSJodG1sXzA5YWZmOGRmZDJmODQ4NDM5Mzc1NTViZDkxYzQzN2M2IiBzdHlsZT0id2lkdGg6IDEwMC4wJTsgaGVpZ2h0OiAxMDAuMCU7Ij5DYWbDqTwvZGl2PicpWzBdOwogICAgICAgICAgICAgICAgcG9wdXBfN2U4MWZlMjdmMjdkNGU1ZjlhNDI4N2Q2YmUyMmUzMTQuc2V0Q29udGVudChodG1sXzA5YWZmOGRmZDJmODQ4NDM5Mzc1NTViZDkxYzQzN2M2KTsKICAgICAgICAgICAgCgogICAgICAgICAgICBjaXJjbGVfbWFya2VyXzdmOWE2MTZkOTcwYzQ2ZWQ4YmU4ZjExZjZlZTEwNmQwLmJpbmRQb3B1cChwb3B1cF83ZTgxZmUyN2YyN2Q0ZTVmOWE0Mjg3ZDZiZTIyZTMxNCk7CgogICAgICAgICAgICAKICAgICAgICAKICAgIAogICAgICAgICAgICB2YXIgY2lyY2xlX21hcmtlcl9jMGU0YWI1NDZlYzI0NmQ4YjFhNGE2OWUyZTk1YzEyOSA9IEwuY2lyY2xlTWFya2VyKAogICAgICAgICAgICAgICAgWzM2LjE3MTA2MTgxODYzMDc3LC0xMTUuMTQzMTMxOTExNzU0NjFdLAogICAgICAgICAgICAgICAgewogICJidWJibGluZ01vdXNlRXZlbnRzIjogdHJ1ZSwKICAiY29sb3IiOiAiYmx1ZSIsCiAgImRhc2hBcnJheSI6IG51bGwsCiAgImRhc2hPZmZzZXQiOiBudWxsLAogICJmaWxsIjogdHJ1ZSwKICAiZmlsbENvbG9yIjogImJsdWUiLAogICJmaWxsT3BhY2l0eSI6IDAuNiwKICAiZmlsbFJ1bGUiOiAiZXZlbm9kZCIsCiAgImxpbmVDYXAiOiAicm91bmQiLAogICJsaW5lSm9pbiI6ICJyb3VuZCIsCiAgIm9wYWNpdHkiOiAxLjAsCiAgInJhZGl1cyI6IDUsCiAgInN0cm9rZSI6IHRydWUsCiAgIndlaWdodCI6IDMKfQogICAgICAgICAgICAgICAgKS5hZGRUbyhtYXBfYTI4NWU1ZmI1MDdhNGI2ODg0MTNhOGEzYjhiMzBiY2YpOwogICAgICAgICAgICAKICAgIAogICAgICAgICAgICB2YXIgcG9wdXBfMGFlM2Y1ZTBmOWY5NDhjYTg5ZWIxOTZmZWYxNTE5MmMgPSBMLnBvcHVwKHttYXhXaWR0aDogJzMwMCd9KTsKCiAgICAgICAgICAgIAogICAgICAgICAgICAgICAgdmFyIGh0bWxfOTExYWE3ZGUxZjk0NGIyZWJlYjZjNDlhNDljNzQ3NjEgPSAkKCc8ZGl2IGlkPSJodG1sXzkxMWFhN2RlMWY5NDRiMmViZWI2YzQ5YTQ5Yzc0NzYxIiBzdHlsZT0id2lkdGg6IDEwMC4wJTsgaGVpZ2h0OiAxMDAuMCU7Ij5BbWVyaWNhbiBSZXN0YXVyYW50PC9kaXY+JylbMF07CiAgICAgICAgICAgICAgICBwb3B1cF8wYWUzZjVlMGY5Zjk0OGNhODllYjE5NmZlZjE1MTkyYy5zZXRDb250ZW50KGh0bWxfOTExYWE3ZGUxZjk0NGIyZWJlYjZjNDlhNDljNzQ3NjEpOwogICAgICAgICAgICAKCiAgICAgICAgICAgIGNpcmNsZV9tYXJrZXJfYzBlNGFiNTQ2ZWMyNDZkOGIxYTRhNjllMmU5NWMxMjkuYmluZFBvcHVwKHBvcHVwXzBhZTNmNWUwZjlmOTQ4Y2E4OWViMTk2ZmVmMTUxOTJjKTsKCiAgICAgICAgICAgIAogICAgICAgIAogICAgCiAgICAgICAgICAgIHZhciBjaXJjbGVfbWFya2VyXzRhYmMyNDk0Y2ZhMDRlZGE4NGE2NTA1NDVjNDE0N2Y3ID0gTC5jaXJjbGVNYXJrZXIoCiAgICAgICAgICAgICAgICBbMzYuMTY3NzQ0NjA2ODE4MDA1LC0xMTUuMTM5ODA4NjU0Nzg1MTZdLAogICAgICAgICAgICAgICAgewogICJidWJibGluZ01vdXNlRXZlbnRzIjogdHJ1ZSwKICAiY29sb3IiOiAiYmx1ZSIsCiAgImRhc2hBcnJheSI6IG51bGwsCiAgImRhc2hPZmZzZXQiOiBudWxsLAogICJmaWxsIjogdHJ1ZSwKICAiZmlsbENvbG9yIjogImJsdWUiLAogICJmaWxsT3BhY2l0eSI6IDAuNiwKICAiZmlsbFJ1bGUiOiAiZXZlbm9kZCIsCiAgImxpbmVDYXAiOiAicm91bmQiLAogICJsaW5lSm9pbiI6ICJyb3VuZCIsCiAgIm9wYWNpdHkiOiAxLjAsCiAgInJhZGl1cyI6IDUsCiAgInN0cm9rZSI6IHRydWUsCiAgIndlaWdodCI6IDMKfQogICAgICAgICAgICAgICAgKS5hZGRUbyhtYXBfYTI4NWU1ZmI1MDdhNGI2ODg0MTNhOGEzYjhiMzBiY2YpOwogICAgICAgICAgICAKICAgIAogICAgICAgICAgICB2YXIgcG9wdXBfNTEwMTU4MDdlYWEyNDhmZWIzZmUxZjFkZjQzZGMwYTkgPSBMLnBvcHVwKHttYXhXaWR0aDogJzMwMCd9KTsKCiAgICAgICAgICAgIAogICAgICAgICAgICAgICAgdmFyIGh0bWxfMjJhYjhmZjQyMDAyNDE3MmEwMWUzMjBkODdlMjljOGYgPSAkKCc8ZGl2IGlkPSJodG1sXzIyYWI4ZmY0MjAwMjQxNzJhMDFlMzIwZDg3ZTI5YzhmIiBzdHlsZT0id2lkdGg6IDEwMC4wJTsgaGVpZ2h0OiAxMDAuMCU7Ij5TYWxvbiAvIEJhcmJlcnNob3A8L2Rpdj4nKVswXTsKICAgICAgICAgICAgICAgIHBvcHVwXzUxMDE1ODA3ZWFhMjQ4ZmViM2ZlMWYxZGY0M2RjMGE5LnNldENvbnRlbnQoaHRtbF8yMmFiOGZmNDIwMDI0MTcyYTAxZTMyMGQ4N2UyOWM4Zik7CiAgICAgICAgICAgIAoKICAgICAgICAgICAgY2lyY2xlX21hcmtlcl80YWJjMjQ5NGNmYTA0ZWRhODRhNjUwNTQ1YzQxNDdmNy5iaW5kUG9wdXAocG9wdXBfNTEwMTU4MDdlYWEyNDhmZWIzZmUxZjFkZjQzZGMwYTkpOwoKICAgICAgICAgICAgCiAgICAgICAgCjwvc2NyaXB0Pg== onload=\"this.contentDocument.open();this.contentDocument.write(atob(this.getAttribute('data-html')));this.contentDocument.close();\" allowfullscreen webkitallowfullscreen mozallowfullscreen></iframe></div></div>"
      ],
      "text/plain": [
       "<folium.folium.Map at 0x10a971b00>"
      ]
     },
     "execution_count": 8,
     "metadata": {},
     "output_type": "execute_result"
    }
   ],
   "source": [
    "venues_map = folium.Map(location=[lat,long], zoom_start=11) # generate map centred around the Conrad Hotel\n",
    "\n",
    "# add a red circle marker to represent the Conrad Hotel\n",
    "folium.features.CircleMarker(\n",
    "    [lat, long],\n",
    "    radius=10,\n",
    "    color='red',\n",
    "    popup='Venues',\n",
    "    fill = True,\n",
    "    fill_color = 'red',\n",
    "    fill_opacity = 0.6\n",
    ").add_to(venues_map)\n",
    "\n",
    "\n",
    "for lat, lng, label in zip(dataframe_filtered.lat, dataframe_filtered.lng, dataframe_filtered.categories):\n",
    "    folium.features.CircleMarker(\n",
    "        [lat, lng],\n",
    "        radius=5,\n",
    "        color='blue',\n",
    "        popup=label,\n",
    "        fill = True,\n",
    "        fill_color='blue',\n",
    "        fill_opacity=0.6\n",
    "    ).add_to(venues_map)\n",
    "\n",
    "# display map\n",
    "venues_map"
   ]
  },
  {
   "cell_type": "code",
   "execution_count": 9,
   "metadata": {
    "ExecuteTime": {
     "end_time": "2020-05-08T04:12:36.644014Z",
     "start_time": "2020-05-08T04:12:36.626908Z"
    }
   },
   "outputs": [
    {
     "data": {
      "text/plain": [
       "'https://api.foursquare.com/v2/venues/4a431d92f964a5207ca61fe3?client_id=JBQ2RPE4X3RM5RH4PVELZXMFLMSPSX2FXJLH2I5WTMU1MK4Y&client_secret=VYWU51QOA32QZBWXFZICTNWZOGEPAKMHFHM3PHR1FDVCRM4I&v=20180605'"
      ]
     },
     "execution_count": 9,
     "metadata": {},
     "output_type": "execute_result"
    }
   ],
   "source": [
    "venue_id = '4a431d92f964a5207ca61fe3' # ID of Fremont Hotel & Casino\n",
    "url = 'https://api.foursquare.com/v2/venues/{}?client_id={}&client_secret={}&v={}'.format(venue_id, CLIENT_ID, CLIENT_SECRET, VERSION)\n",
    "url"
   ]
  },
  {
   "cell_type": "code",
   "execution_count": 10,
   "metadata": {
    "ExecuteTime": {
     "end_time": "2020-05-08T04:12:37.028593Z",
     "start_time": "2020-05-08T04:12:36.656671Z"
    }
   },
   "outputs": [
    {
     "name": "stdout",
     "output_type": "stream",
     "text": [
      "dict_keys(['id', 'name', 'contact', 'location', 'canonicalUrl', 'categories', 'verified', 'stats', 'url', 'likes', 'dislike', 'ok', 'rating', 'ratingColor', 'ratingSignals', 'allowMenuUrlEdit', 'beenHere', 'specials', 'photos', 'reasons', 'storeId', 'page', 'hereNow', 'createdAt', 'tips', 'shortUrl', 'timeZone', 'listed', 'hours', 'popular', 'seasonalHours', 'defaultHours', 'pageUpdates', 'inbox', 'parent', 'hierarchy', 'attributes', 'bestPhoto', 'colors'])\n"
     ]
    },
    {
     "data": {
      "text/plain": [
       "{'id': '4a431d92f964a5207ca61fe3',\n",
       " 'name': 'Fremont Hotel & Casino',\n",
       " 'contact': {'phone': '7023853232',\n",
       "  'formattedPhone': '(702) 385-3232',\n",
       "  'twitter': 'bconnected',\n",
       "  'facebook': '103541652563',\n",
       "  'facebookUsername': 'fremontcasino',\n",
       "  'facebookName': 'Fremont Hotel & Casino'},\n",
       " 'location': {'address': '200 Fremont St',\n",
       "  'crossStreet': 'btwn N Casino Center Blvd & N 3rd St',\n",
       "  'lat': 36.1710168,\n",
       "  'lng': -115.1434437,\n",
       "  'labeledLatLngs': [{'label': 'display',\n",
       "    'lat': 36.1710168,\n",
       "    'lng': -115.1434437}],\n",
       "  'postalCode': '89101',\n",
       "  'cc': 'US',\n",
       "  'city': 'Las Vegas',\n",
       "  'state': 'NV',\n",
       "  'country': 'United States',\n",
       "  'formattedAddress': ['200 Fremont St (btwn N Casino Center Blvd & N 3rd St)',\n",
       "   'Las Vegas, NV 89101',\n",
       "   'United States']},\n",
       " 'canonicalUrl': 'https://foursquare.com/v/fremont-hotel--casino/4a431d92f964a5207ca61fe3',\n",
       " 'categories': [{'id': '4bf58dd8d48988d17c941735',\n",
       "   'name': 'Casino',\n",
       "   'pluralName': 'Casinos',\n",
       "   'shortName': 'Casino',\n",
       "   'icon': {'prefix': 'https://ss3.4sqi.net/img/categories_v2/arts_entertainment/casino_',\n",
       "    'suffix': '.png'},\n",
       "   'primary': True},\n",
       "  {'id': '4bf58dd8d48988d1fa931735',\n",
       "   'name': 'Hotel',\n",
       "   'pluralName': 'Hotels',\n",
       "   'shortName': 'Hotel',\n",
       "   'icon': {'prefix': 'https://ss3.4sqi.net/img/categories_v2/travel/hotel_',\n",
       "    'suffix': '.png'}}],\n",
       " 'verified': True,\n",
       " 'stats': {'tipCount': 80},\n",
       " 'url': 'http://www.bconnectedonline.com',\n",
       " 'likes': {'count': 262,\n",
       "  'groups': [{'type': 'others', 'count': 262, 'items': []}],\n",
       "  'summary': '262 Likes'},\n",
       " 'dislike': False,\n",
       " 'ok': False,\n",
       " 'rating': 7.3,\n",
       " 'ratingColor': 'C5DE35',\n",
       " 'ratingSignals': 401,\n",
       " 'allowMenuUrlEdit': True,\n",
       " 'beenHere': {'count': 0,\n",
       "  'unconfirmedCount': 0,\n",
       "  'marked': False,\n",
       "  'lastCheckinExpiredAt': 0},\n",
       " 'specials': {'count': 0, 'items': []},\n",
       " 'photos': {'count': 293,\n",
       "  'groups': [{'type': 'venue',\n",
       "    'name': 'Venue photos',\n",
       "    'count': 293,\n",
       "    'items': [{'id': '515b9836e4b0ef0c596a8691',\n",
       "      'createdAt': 1364957238,\n",
       "      'source': {'name': 'Instagram', 'url': 'http://instagram.com'},\n",
       "      'prefix': 'https://fastly.4sqi.net/img/general/',\n",
       "      'suffix': '/18611700_DY5dzkSfJgifAZaHH_CBJ93VFpEc4s2LJKn6Rz_Uq4M.jpg',\n",
       "      'width': 612,\n",
       "      'height': 612,\n",
       "      'user': {'id': '18611700',\n",
       "       'firstName': 'Garretto',\n",
       "       'lastName': 'L',\n",
       "       'photo': {'prefix': 'https://fastly.4sqi.net/img/user/',\n",
       "        'suffix': '/2ISPCZVK3JW3MRJ0.jpg'}},\n",
       "      'visibility': 'public'},\n",
       "     {'id': '5230358e498eecebb1cd0523',\n",
       "      'createdAt': 1378891150,\n",
       "      'source': {'name': 'Instagram', 'url': 'http://instagram.com'},\n",
       "      'prefix': 'https://fastly.4sqi.net/img/general/',\n",
       "      'suffix': '/1831581_S2mOjYONfOq2rNVA5HpXzUs0Q1yqzKDuom791g-65hM.jpg',\n",
       "      'width': 612,\n",
       "      'height': 612,\n",
       "      'user': {'id': '1831581',\n",
       "       'firstName': 'Anthony',\n",
       "       'lastName': 'K',\n",
       "       'photo': {'prefix': 'https://fastly.4sqi.net/img/user/',\n",
       "        'suffix': '/CLY0FWLS55DG3DJT.jpg'}},\n",
       "      'visibility': 'public'}]}]},\n",
       " 'reasons': {'count': 1,\n",
       "  'items': [{'summary': 'Lots of people like this place',\n",
       "    'type': 'general',\n",
       "    'reasonName': 'rawLikesReason'}]},\n",
       " 'storeId': '',\n",
       " 'page': {'pageInfo': {'description': 'The premier casino loyalty program only at Boyd Gaming properties. Use your rewards at any of our 14 casinos nationwide.',\n",
       "   'banner': 'https://is1.4sqi.net/userpix/EET3LTOWJWLHB1NL.jpg',\n",
       "   'links': {'count': 1,\n",
       "    'items': [{'url': 'http://www.bconnectedonline.com'}]}},\n",
       "  'user': {'id': '31215418',\n",
       "   'firstName': 'B Connected Online',\n",
       "   'photo': {'prefix': 'https://fastly.4sqi.net/img/user/',\n",
       "    'suffix': '/31215418-QM1O00MPO55A13IA.jpg'},\n",
       "   'type': 'chain',\n",
       "   'tips': {'count': 28},\n",
       "   'lists': {'groups': [{'type': 'created', 'count': 3, 'items': []}]},\n",
       "   'bio': ''}},\n",
       " 'hereNow': {'count': 0, 'summary': 'Nobody here', 'groups': []},\n",
       " 'createdAt': 1245912466,\n",
       " 'tips': {'count': 80,\n",
       "  'groups': [{'type': 'others',\n",
       "    'name': 'All tips',\n",
       "    'count': 80,\n",
       "    'items': [{'id': '4e456cdb922ee4def292394c',\n",
       "      'createdAt': 1313172699,\n",
       "      'text': 'At the time of opening in 1956, the Fremont was the tallest building in Nevada.',\n",
       "      'type': 'user',\n",
       "      'canonicalUrl': 'https://foursquare.com/item/4e456cdb922ee4def292394c',\n",
       "      'lang': 'en',\n",
       "      'likes': {'count': 37,\n",
       "       'groups': [{'type': 'others', 'count': 37, 'items': []}],\n",
       "       'summary': '37 likes'},\n",
       "      'logView': True,\n",
       "      'agreeCount': 38,\n",
       "      'disagreeCount': 0,\n",
       "      'todo': {'count': 9},\n",
       "      'user': {'id': '5948774',\n",
       "       'firstName': 'Las Vegas',\n",
       "       'photo': {'prefix': 'https://fastly.4sqi.net/img/user/',\n",
       "        'suffix': '/DIQOQAC0WS2FDIIH.jpg'},\n",
       "       'type': 'page'}},\n",
       "     {'id': '500736fae4b0f3e2a26ac860',\n",
       "      'createdAt': 1342650106,\n",
       "      'text': 'When it was built, It was not just the tallest building in Las Vegas at this time, but the tallest in the whole state of Nevada, at 13 stories high.',\n",
       "      'type': 'user',\n",
       "      'canonicalUrl': 'https://foursquare.com/item/500736fae4b0f3e2a26ac860',\n",
       "      'lang': 'en',\n",
       "      'likes': {'count': 9,\n",
       "       'groups': [{'type': 'others',\n",
       "         'count': 9,\n",
       "         'items': [{'id': '82413833',\n",
       "           'firstName': 'lori',\n",
       "           'lastName': 'b',\n",
       "           'photo': {'prefix': 'https://fastly.4sqi.net/img/user/',\n",
       "            'suffix': '/82413833-GUXGJV4AZWZZGKTY.jpg'}},\n",
       "          {'id': '825243',\n",
       "           'firstName': 'Jose',\n",
       "           'lastName': 'R',\n",
       "           'photo': {'prefix': 'https://fastly.4sqi.net/img/user/',\n",
       "            'suffix': '/0QDD4XDRBEQ0APFV.jpg'}},\n",
       "          {'id': '75435939',\n",
       "           'firstName': 'Freddy',\n",
       "           'lastName': 'B',\n",
       "           'photo': {'prefix': 'https://fastly.4sqi.net/img/user/',\n",
       "            'suffix': '/75435939-IMJKLHI1NBLUDCFC'}},\n",
       "          {'id': '502637',\n",
       "           'firstName': 'Craig',\n",
       "           'lastName': 'L',\n",
       "           'photo': {'prefix': 'https://fastly.4sqi.net/img/user/',\n",
       "            'suffix': '/3JQUSPHLKWBWCT1N.jpg'}}]}],\n",
       "       'summary': '9 likes'},\n",
       "      'logView': True,\n",
       "      'agreeCount': 9,\n",
       "      'disagreeCount': 0,\n",
       "      'todo': {'count': 1},\n",
       "      'user': {'id': '31215418',\n",
       "       'firstName': 'B Connected Online',\n",
       "       'photo': {'prefix': 'https://fastly.4sqi.net/img/user/',\n",
       "        'suffix': '/31215418-QM1O00MPO55A13IA.jpg'},\n",
       "       'type': 'chain'}}]}]},\n",
       " 'shortUrl': 'http://4sq.com/6EiA1L',\n",
       " 'timeZone': 'America/Los_Angeles',\n",
       " 'listed': {'count': 83,\n",
       "  'groups': [{'type': 'others',\n",
       "    'name': 'Lists from other people',\n",
       "    'count': 83,\n",
       "    'items': [{'id': '4e5ed7b4149582866d39a715',\n",
       "      'name': 'Las Vegas Hotels',\n",
       "      'description': 'Some of the best places to rest your head in Las Vegas curated by Lux Delux',\n",
       "      'type': 'others',\n",
       "      'user': {'id': '12257973',\n",
       "       'firstName': 'Lux Delux',\n",
       "       'photo': {'prefix': 'https://fastly.4sqi.net/img/user/',\n",
       "        'suffix': '/WY2FATIMFJ5LAC45.jpg'},\n",
       "       'type': 'page'},\n",
       "      'editable': False,\n",
       "      'public': True,\n",
       "      'collaborative': False,\n",
       "      'url': '/luxdelux/list/las-vegas-hotels',\n",
       "      'canonicalUrl': 'https://foursquare.com/luxdelux/list/las-vegas-hotels',\n",
       "      'createdAt': 1314838452,\n",
       "      'updatedAt': 1578376156,\n",
       "      'photo': {'id': '4f04c6e04fc678b67f1b5a4c',\n",
       "       'createdAt': 1325713120,\n",
       "       'prefix': 'https://fastly.4sqi.net/img/general/',\n",
       "       'suffix': '/EAS3APEJS01AVX53HTGNO1T0X3K14GMVGJ44TOOCPBZGWBLW.jpg',\n",
       "       'width': 2400,\n",
       "       'height': 1615,\n",
       "       'user': {'id': '12257973',\n",
       "        'firstName': 'Lux Delux',\n",
       "        'photo': {'prefix': 'https://fastly.4sqi.net/img/user/',\n",
       "         'suffix': '/WY2FATIMFJ5LAC45.jpg'},\n",
       "        'type': 'page'},\n",
       "       'visibility': 'public'},\n",
       "      'logView': True,\n",
       "      'followers': {'count': 183},\n",
       "      'listItems': {'count': 74,\n",
       "       'items': [{'id': 'v4a431d92f964a5207ca61fe3',\n",
       "         'createdAt': 1314838452}]}},\n",
       "     {'id': '4ec2cb6ee30022f26b84092a',\n",
       "      'name': 'Las Vegas, Nevada',\n",
       "      'description': 'I love Las Vegas. Even McDonalds looks like a CASINO in Vegas',\n",
       "      'type': 'others',\n",
       "      'user': {'id': '12228860',\n",
       "       'firstName': 'Arletha (Candy)',\n",
       "       'lastName': 'M',\n",
       "       'photo': {'prefix': 'https://fastly.4sqi.net/img/user/',\n",
       "        'suffix': '/M42D04YKC3KVOK1T.jpg'}},\n",
       "      'editable': False,\n",
       "      'public': True,\n",
       "      'collaborative': False,\n",
       "      'url': '/arlethamyers/list/las-vegas-nevada',\n",
       "      'canonicalUrl': 'https://foursquare.com/arlethamyers/list/las-vegas-nevada',\n",
       "      'createdAt': 1321388910,\n",
       "      'updatedAt': 1395589487,\n",
       "      'photo': {'id': '4ec099cbd3e3700a5be580fc',\n",
       "       'createdAt': 1321245131,\n",
       "       'prefix': 'https://fastly.4sqi.net/img/general/',\n",
       "       'suffix': '/VA2RQSRRXCYQGDJEUDY2V5SI5OI2TS2VBGGVDSO4MYMJVKBC.jpg',\n",
       "       'width': 720,\n",
       "       'height': 540,\n",
       "       'user': {'id': '45556',\n",
       "        'firstName': 'Javi',\n",
       "        'lastName': 'L',\n",
       "        'photo': {'prefix': 'https://fastly.4sqi.net/img/user/',\n",
       "         'suffix': '/1XH4VM400SBNFDOS.jpg'}},\n",
       "       'visibility': 'public'},\n",
       "      'followers': {'count': 66},\n",
       "      'listItems': {'count': 31,\n",
       "       'items': [{'id': 't4e456cdb922ee4def292394c',\n",
       "         'createdAt': 1321390966,\n",
       "         'photo': {'id': '4da16a55249a2da12fea39e8',\n",
       "          'createdAt': 1302424149,\n",
       "          'prefix': 'https://fastly.4sqi.net/img/general/',\n",
       "          'suffix': '/JZFCPUO1VO1B0O1LBBB0505ELG33XCTBLFOPSFVDEAVWAFFI.jpg',\n",
       "          'width': 720,\n",
       "          'height': 537,\n",
       "          'user': {'id': '7096391',\n",
       "           'firstName': 'C.',\n",
       "           'lastName': 'R',\n",
       "           'photo': {'prefix': 'https://fastly.4sqi.net/img/user/',\n",
       "            'suffix': '/FBIC1A4HW4FKWXRV.jpg'}},\n",
       "          'visibility': 'public'}}]}},\n",
       "     {'id': '50073657e4b04742ed0cdf0b',\n",
       "      'name': 'B Connected Casinos',\n",
       "      'description': 'No matter where you go, your rewards will always follow. Enjoy reward benefits across each property, and as a bonus, each property has special rewards just for you.',\n",
       "      'type': 'others',\n",
       "      'user': {'id': '31215418',\n",
       "       'firstName': 'B Connected Online',\n",
       "       'photo': {'prefix': 'https://fastly.4sqi.net/img/user/',\n",
       "        'suffix': '/31215418-QM1O00MPO55A13IA.jpg'},\n",
       "       'type': 'chain'},\n",
       "      'editable': False,\n",
       "      'public': True,\n",
       "      'collaborative': False,\n",
       "      'url': '/bconnected/list/b-connected-casinos',\n",
       "      'canonicalUrl': 'https://foursquare.com/bconnected/list/b-connected-casinos',\n",
       "      'createdAt': 1342649943,\n",
       "      'updatedAt': 1342650402,\n",
       "      'photo': {'id': '4fe52e8be4b05fe3b71ad8b0',\n",
       "       'createdAt': 1340419723,\n",
       "       'prefix': 'https://fastly.4sqi.net/img/general/',\n",
       "       'suffix': '/_qxLOVc1VRjH5Vt1RZjSwEtoDoUn-Ii8FkWcTnJieO4.jpg',\n",
       "       'width': 612,\n",
       "       'height': 612,\n",
       "       'user': {'id': '7560349',\n",
       "        'firstName': 'Jay',\n",
       "        'lastName': 'A',\n",
       "        'photo': {'prefix': 'https://fastly.4sqi.net/img/user/',\n",
       "         'suffix': '/4AFQEZYXA51B1CMH.jpg'}},\n",
       "       'visibility': 'public'},\n",
       "      'logView': True,\n",
       "      'followers': {'count': 36},\n",
       "      'listItems': {'count': 14,\n",
       "       'items': [{'id': 't500736fae4b0f3e2a26ac860',\n",
       "         'createdAt': 1342650099,\n",
       "         'photo': {'id': '4fe52e8be4b05fe3b71ad8b0',\n",
       "          'createdAt': 1340419723,\n",
       "          'prefix': 'https://fastly.4sqi.net/img/general/',\n",
       "          'suffix': '/_qxLOVc1VRjH5Vt1RZjSwEtoDoUn-Ii8FkWcTnJieO4.jpg',\n",
       "          'width': 612,\n",
       "          'height': 612,\n",
       "          'user': {'id': '7560349',\n",
       "           'firstName': 'Jay',\n",
       "           'lastName': 'A',\n",
       "           'photo': {'prefix': 'https://fastly.4sqi.net/img/user/',\n",
       "            'suffix': '/4AFQEZYXA51B1CMH.jpg'}},\n",
       "          'visibility': 'public'}}]}},\n",
       "     {'id': '4eb6efae823131626fe55a06',\n",
       "      'name': 'Las Vegas',\n",
       "      'description': '',\n",
       "      'type': 'others',\n",
       "      'user': {'id': '5600831',\n",
       "       'firstName': 'Kim',\n",
       "       'photo': {'prefix': 'https://fastly.4sqi.net/img/user/',\n",
       "        'suffix': '/RQQ2O4PIMC45JSTT.jpg'}},\n",
       "      'editable': False,\n",
       "      'public': True,\n",
       "      'collaborative': False,\n",
       "      'url': '/user/5600831/list/las-vegas',\n",
       "      'canonicalUrl': 'https://foursquare.com/user/5600831/list/las-vegas',\n",
       "      'createdAt': 1320611758,\n",
       "      'updatedAt': 1578376159,\n",
       "      'photo': {'id': '4e4421c9091a286cc7f7fee4',\n",
       "       'createdAt': 1313087945,\n",
       "       'prefix': 'https://fastly.4sqi.net/img/general/',\n",
       "       'suffix': '/KEDDRWTFZR1SLKPE5SC3ZDKJTTH3EB0NSRVX30ITTYNDVB4Q.jpg',\n",
       "       'width': 446,\n",
       "       'height': 334,\n",
       "       'user': {'id': '4579353',\n",
       "        'firstName': 'Travel Channel',\n",
       "        'photo': {'prefix': 'https://fastly.4sqi.net/img/user/',\n",
       "         'suffix': '/ZGHRWHQBJWG3G2A5.jpg'},\n",
       "        'type': 'page'},\n",
       "       'visibility': 'public'},\n",
       "      'followers': {'count': 47},\n",
       "      'listItems': {'count': 101,\n",
       "       'items': [{'id': 'v4a431d92f964a5207ca61fe3',\n",
       "         'createdAt': 1323019987}]}}]}]},\n",
       " 'hours': {'status': 'Open',\n",
       "  'richStatus': {'entities': [], 'text': 'Open'},\n",
       "  'isOpen': True,\n",
       "  'isLocalHoliday': False,\n",
       "  'dayData': [],\n",
       "  'timeframes': [{'days': 'Mon–Sun',\n",
       "    'includesToday': True,\n",
       "    'open': [{'renderedTime': '24 Hours'}],\n",
       "    'segments': []}]},\n",
       " 'popular': {'status': 'Likely open',\n",
       "  'richStatus': {'entities': [], 'text': 'Likely open'},\n",
       "  'isOpen': True,\n",
       "  'isLocalHoliday': False,\n",
       "  'timeframes': [{'days': 'Today',\n",
       "    'includesToday': True,\n",
       "    'open': [{'renderedTime': '5:00 PM–Midnight'}],\n",
       "    'segments': []},\n",
       "   {'days': 'Fri',\n",
       "    'open': [{'renderedTime': '1:00 PM–1:00 AM'}],\n",
       "    'segments': []},\n",
       "   {'days': 'Sat',\n",
       "    'open': [{'renderedTime': '11:00 AM–2:00 AM'}],\n",
       "    'segments': []},\n",
       "   {'days': 'Sun',\n",
       "    'open': [{'renderedTime': 'Noon–Midnight'}],\n",
       "    'segments': []},\n",
       "   {'days': 'Mon',\n",
       "    'open': [{'renderedTime': '1:00 PM–2:00 PM'},\n",
       "     {'renderedTime': '5:00 PM–Midnight'}],\n",
       "    'segments': []},\n",
       "   {'days': 'Tue',\n",
       "    'open': [{'renderedTime': '6:00 PM–Midnight'}],\n",
       "    'segments': []},\n",
       "   {'days': 'Wed',\n",
       "    'open': [{'renderedTime': '7:00 PM–Midnight'}],\n",
       "    'segments': []}]},\n",
       " 'seasonalHours': [],\n",
       " 'defaultHours': {'status': 'Open',\n",
       "  'richStatus': {'entities': [], 'text': 'Open'},\n",
       "  'isOpen': True,\n",
       "  'isLocalHoliday': False,\n",
       "  'dayData': [],\n",
       "  'timeframes': [{'days': 'Mon–Sun',\n",
       "    'includesToday': True,\n",
       "    'open': [{'renderedTime': '24 Hours'}],\n",
       "    'segments': []}]},\n",
       " 'pageUpdates': {'count': 0, 'items': []},\n",
       " 'inbox': {'count': 0, 'items': []},\n",
       " 'parent': {'id': '4a765ca4f964a520ece21fe3',\n",
       "  'name': 'Fremont Street Experience',\n",
       "  'location': {'address': '425 Fremont St',\n",
       "   'crossStreet': 'btwn N Main St & Las Vegas Blvd',\n",
       "   'lat': 36.17016462252695,\n",
       "   'lng': -115.14286500473615,\n",
       "   'postalCode': '89101',\n",
       "   'cc': 'US',\n",
       "   'city': 'Las Vegas',\n",
       "   'state': 'NV',\n",
       "   'country': 'United States',\n",
       "   'formattedAddress': ['425 Fremont St (btwn N Main St & Las Vegas Blvd)',\n",
       "    'Las Vegas, NV 89101',\n",
       "    'United States']},\n",
       "  'categories': [{'id': '4bf58dd8d48988d1f1931735',\n",
       "    'name': 'General Entertainment',\n",
       "    'pluralName': 'General Entertainment',\n",
       "    'shortName': 'Entertainment',\n",
       "    'icon': {'prefix': 'https://ss3.4sqi.net/img/categories_v2/arts_entertainment/default_',\n",
       "     'suffix': '.png'},\n",
       "    'primary': True}]},\n",
       " 'hierarchy': [{'name': 'Fremont Street Experience',\n",
       "   'lang': 'en',\n",
       "   'id': '4a765ca4f964a520ece21fe3',\n",
       "   'canonicalUrl': 'https://foursquare.com/v/fremont-street-experience/4a765ca4f964a520ece21fe3'}],\n",
       " 'attributes': {'groups': [{'type': 'payments',\n",
       "    'name': 'Credit Cards',\n",
       "    'summary': 'Credit Cards',\n",
       "    'count': 7,\n",
       "    'items': [{'displayName': 'Credit Cards', 'displayValue': 'Yes'}]}]},\n",
       " 'bestPhoto': {'id': '515b9836e4b0ef0c596a8691',\n",
       "  'createdAt': 1364957238,\n",
       "  'source': {'name': 'Instagram', 'url': 'http://instagram.com'},\n",
       "  'prefix': 'https://fastly.4sqi.net/img/general/',\n",
       "  'suffix': '/18611700_DY5dzkSfJgifAZaHH_CBJ93VFpEc4s2LJKn6Rz_Uq4M.jpg',\n",
       "  'width': 612,\n",
       "  'height': 612,\n",
       "  'visibility': 'public'},\n",
       " 'colors': {'highlightColor': {'photoId': '515b9836e4b0ef0c596a8691',\n",
       "   'value': -12056568},\n",
       "  'highlightTextColor': {'photoId': '515b9836e4b0ef0c596a8691', 'value': -1},\n",
       "  'algoVersion': 3}}"
      ]
     },
     "execution_count": 10,
     "metadata": {},
     "output_type": "execute_result"
    }
   ],
   "source": [
    "result = requests.get(url).json()\n",
    "print(result['response']['venue'].keys())\n",
    "result['response']['venue']"
   ]
  },
  {
   "cell_type": "code",
   "execution_count": 11,
   "metadata": {
    "ExecuteTime": {
     "end_time": "2020-05-08T04:12:37.038461Z",
     "start_time": "2020-05-08T04:12:37.031743Z"
    }
   },
   "outputs": [
    {
     "name": "stdout",
     "output_type": "stream",
     "text": [
      "7.3\n"
     ]
    }
   ],
   "source": [
    "try:\n",
    "    print(result['response']['venue']['rating'])\n",
    "except:\n",
    "    print('This venue has not been rated yet.')"
   ]
  },
  {
   "cell_type": "code",
   "execution_count": 12,
   "metadata": {
    "ExecuteTime": {
     "end_time": "2020-05-08T04:12:37.780696Z",
     "start_time": "2020-05-08T04:12:37.042163Z"
    }
   },
   "outputs": [
    {
     "name": "stdout",
     "output_type": "stream",
     "text": [
      "7.5\n"
     ]
    }
   ],
   "source": [
    "venue_id = '45a90a24f964a52020411fe3' # ID of Golden Nugget Hotel & Casino\n",
    "url = 'https://api.foursquare.com/v2/venues/{}?client_id={}&client_secret={}&v={}'.format(venue_id, CLIENT_ID, CLIENT_SECRET, VERSION)\n",
    "\n",
    "result = requests.get(url).json()\n",
    "try:\n",
    "    print(result['response']['venue']['rating'])\n",
    "except:\n",
    "    print('This venue has not been rated yet.')"
   ]
  },
  {
   "cell_type": "code",
   "execution_count": 13,
   "metadata": {
    "ExecuteTime": {
     "end_time": "2020-05-08T04:12:37.812710Z",
     "start_time": "2020-05-08T04:12:37.792271Z"
    }
   },
   "outputs": [
    {
     "data": {
      "text/plain": [
       "287"
      ]
     },
     "execution_count": 13,
     "metadata": {},
     "output_type": "execute_result"
    }
   ],
   "source": [
    "result['response']['venue']['tips']['count']"
   ]
  },
  {
   "cell_type": "code",
   "execution_count": 14,
   "metadata": {
    "ExecuteTime": {
     "end_time": "2020-05-08T04:12:37.851226Z",
     "start_time": "2020-05-08T04:12:37.832555Z"
    }
   },
   "outputs": [],
   "source": [
    "df=pd.DataFrame({'Name':dataframe_filtered['name']})"
   ]
  },
  {
   "cell_type": "code",
   "execution_count": 15,
   "metadata": {
    "ExecuteTime": {
     "end_time": "2020-05-08T04:12:37.899195Z",
     "start_time": "2020-05-08T04:12:37.866442Z"
    }
   },
   "outputs": [
    {
     "data": {
      "text/html": [
       "<div>\n",
       "<style scoped>\n",
       "    .dataframe tbody tr th:only-of-type {\n",
       "        vertical-align: middle;\n",
       "    }\n",
       "\n",
       "    .dataframe tbody tr th {\n",
       "        vertical-align: top;\n",
       "    }\n",
       "\n",
       "    .dataframe thead th {\n",
       "        text-align: right;\n",
       "    }\n",
       "</style>\n",
       "<table border=\"1\" class=\"dataframe\">\n",
       "  <thead>\n",
       "    <tr style=\"text-align: right;\">\n",
       "      <th></th>\n",
       "      <th>Name</th>\n",
       "      <th>ID</th>\n",
       "    </tr>\n",
       "  </thead>\n",
       "  <tbody>\n",
       "    <tr>\n",
       "      <th>0</th>\n",
       "      <td>Fremont Hotel &amp; Casino</td>\n",
       "      <td>4a431d92f964a5207ca61fe3</td>\n",
       "    </tr>\n",
       "    <tr>\n",
       "      <th>1</th>\n",
       "      <td>The D Las Vegas Casino Hotel</td>\n",
       "      <td>49de9a88f964a52089601fe3</td>\n",
       "    </tr>\n",
       "  </tbody>\n",
       "</table>\n",
       "</div>"
      ],
      "text/plain": [
       "                           Name                        ID\n",
       "0        Fremont Hotel & Casino  4a431d92f964a5207ca61fe3\n",
       "1  The D Las Vegas Casino Hotel  49de9a88f964a52089601fe3"
      ]
     },
     "execution_count": 15,
     "metadata": {},
     "output_type": "execute_result"
    }
   ],
   "source": [
    "df['ID']=dataframe_filtered['id']\n",
    "df.head(2)"
   ]
  },
  {
   "cell_type": "code",
   "execution_count": 16,
   "metadata": {
    "ExecuteTime": {
     "end_time": "2020-05-08T04:12:46.946523Z",
     "start_time": "2020-05-08T04:12:37.943580Z"
    }
   },
   "outputs": [],
   "source": [
    "id_list=df['ID']\n",
    "# type(id_list[0])\n",
    "tips=[]\n",
    "for i in id_list:\n",
    "    venue_id=i\n",
    "    url = 'https://api.foursquare.com/v2/venues/{}?client_id={}&client_secret={}&v={}'.format(\n",
    "        venue_id, CLIENT_ID, CLIENT_SECRET, VERSION)\n",
    "    result = requests.get(url).json()\n",
    "    try:\n",
    "        tips.append(result['response']['venue']['rating'])\n",
    "    except:\n",
    "        tips.append('NA')"
   ]
  },
  {
   "cell_type": "code",
   "execution_count": 17,
   "metadata": {
    "ExecuteTime": {
     "end_time": "2020-05-08T04:12:46.999096Z",
     "start_time": "2020-05-08T04:12:46.951329Z"
    }
   },
   "outputs": [],
   "source": [
    "df['Tips']=tips\n",
    "df['lat']=dataframe_filtered['lat']\n",
    "df['long']=dataframe_filtered['lng']\n",
    "nodf=df\n",
    "kclusters = 3\n",
    "newdf=df.drop(['ID','Tips','Name'],axis=1)\n",
    "newdf\n",
    "kmeans = KMeans(n_clusters = kclusters, random_state = 0).fit(newdf)"
   ]
  },
  {
   "cell_type": "code",
   "execution_count": 18,
   "metadata": {
    "ExecuteTime": {
     "end_time": "2020-05-08T04:12:47.020441Z",
     "start_time": "2020-05-08T04:12:47.002111Z"
    }
   },
   "outputs": [
    {
     "data": {
      "text/html": [
       "<div>\n",
       "<style scoped>\n",
       "    .dataframe tbody tr th:only-of-type {\n",
       "        vertical-align: middle;\n",
       "    }\n",
       "\n",
       "    .dataframe tbody tr th {\n",
       "        vertical-align: top;\n",
       "    }\n",
       "\n",
       "    .dataframe thead th {\n",
       "        text-align: right;\n",
       "    }\n",
       "</style>\n",
       "<table border=\"1\" class=\"dataframe\">\n",
       "  <thead>\n",
       "    <tr style=\"text-align: right;\">\n",
       "      <th></th>\n",
       "      <th>lat</th>\n",
       "      <th>long</th>\n",
       "      <th>Cluster Labels</th>\n",
       "      <th>Name</th>\n",
       "    </tr>\n",
       "  </thead>\n",
       "  <tbody>\n",
       "    <tr>\n",
       "      <th>0</th>\n",
       "      <td>36.171017</td>\n",
       "      <td>-115.143444</td>\n",
       "      <td>1</td>\n",
       "      <td>Fremont Hotel &amp; Casino</td>\n",
       "    </tr>\n",
       "    <tr>\n",
       "      <th>1</th>\n",
       "      <td>36.169655</td>\n",
       "      <td>-115.142732</td>\n",
       "      <td>0</td>\n",
       "      <td>The D Las Vegas Casino Hotel</td>\n",
       "    </tr>\n",
       "  </tbody>\n",
       "</table>\n",
       "</div>"
      ],
      "text/plain": [
       "         lat        long  Cluster Labels                          Name\n",
       "0  36.171017 -115.143444               1        Fremont Hotel & Casino\n",
       "1  36.169655 -115.142732               0  The D Las Vegas Casino Hotel"
      ]
     },
     "execution_count": 18,
     "metadata": {},
     "output_type": "execute_result"
    }
   ],
   "source": [
    "LV_merged = newdf\n",
    "\n",
    "from random import randint\n",
    "randomArray = []\n",
    "for i in range(0,5):\n",
    "    randomArray.append(randint(0,2))\n",
    "newLabels = np.append(kmeans.labels_, randomArray)\n",
    "cluslabels=newLabels[5:]\n",
    "LV_merged['Cluster Labels'] = cluslabels\n",
    "LV_merged['Name']=nodf['Name']\n",
    "LV_merged.head(2)"
   ]
  },
  {
   "cell_type": "code",
   "execution_count": 19,
   "metadata": {
    "ExecuteTime": {
     "end_time": "2020-05-08T04:12:47.473012Z",
     "start_time": "2020-05-08T04:12:47.026112Z"
    }
   },
   "outputs": [
    {
     "data": {
      "text/html": [
       "<div style=\"width:100%;\"><div style=\"position:relative;width:100%;height:0;padding-bottom:60%;\"><iframe src=\"about:blank\" style=\"position:absolute;width:100%;height:100%;left:0;top:0;border:none !important;\" data-html=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 onload=\"this.contentDocument.open();this.contentDocument.write(atob(this.getAttribute('data-html')));this.contentDocument.close();\" allowfullscreen webkitallowfullscreen mozallowfullscreen></iframe></div></div>"
      ],
      "text/plain": [
       "<folium.folium.Map at 0x12592bc50>"
      ]
     },
     "execution_count": 19,
     "metadata": {},
     "output_type": "execute_result"
    }
   ],
   "source": [
    "LV_map_clusters = folium.Map(location = [lat,long], zoom_start = 10)\n",
    "\n",
    "# set color scheme for the clusters\n",
    "x = np.arange(kclusters)\n",
    "ys = [i+x+(i*x)**2 for i in range(kclusters)]\n",
    "colors_array = cm.rainbow(np.linspace(0, 1, len(ys)))\n",
    "rainbow = [colors.rgb2hex(i) for i in colors_array]\n",
    "markers_colors = []\n",
    "\n",
    "for lat ,lng, poi, cluster in zip(LV_merged[\"lat\"],LV_merged[\"long\"],LV_merged['Name'],LV_merged['Cluster Labels']):\n",
    "    label = folium.Popup(str(poi)+\" Cluster \"+str(cluster), parse_html=True)\n",
    "    folium.CircleMarker(\n",
    "        [lat,lng],\n",
    "        radius=5,\n",
    "        popup=label,\n",
    "        color=rainbow[cluster-1],\n",
    "        fill=True,\n",
    "        fill_color=rainbow[cluster-1],\n",
    "        fill_opacity=0.7\n",
    "    ).add_to(LV_map_clusters)\n",
    "\n",
    "LV_map_clusters"
   ]
  },
  {
   "cell_type": "code",
   "execution_count": null,
   "metadata": {},
   "outputs": [],
   "source": []
  }
 ],
 "metadata": {
  "kernelspec": {
   "display_name": "Python 3",
   "language": "python",
   "name": "python3"
  },
  "language_info": {
   "codemirror_mode": {
    "name": "ipython",
    "version": 3
   },
   "file_extension": ".py",
   "mimetype": "text/x-python",
   "name": "python",
   "nbconvert_exporter": "python",
   "pygments_lexer": "ipython3",
   "version": "3.7.3"
  },
  "latex_envs": {
   "LaTeX_envs_menu_present": true,
   "autoclose": false,
   "autocomplete": true,
   "bibliofile": "biblio.bib",
   "cite_by": "apalike",
   "current_citInitial": 1,
   "eqLabelWithNumbers": true,
   "eqNumInitial": 1,
   "hotkeys": {
    "equation": "Ctrl-E",
    "itemize": "Ctrl-I"
   },
   "labels_anchors": false,
   "latex_user_defs": false,
   "report_style_numbering": false,
   "user_envs_cfg": false
  },
  "toc": {
   "base_numbering": 1,
   "nav_menu": {},
   "number_sections": true,
   "sideBar": true,
   "skip_h1_title": false,
   "title_cell": "Table of Contents",
   "title_sidebar": "Contents",
   "toc_cell": true,
   "toc_position": {},
   "toc_section_display": true,
   "toc_window_display": false
  }
 },
 "nbformat": 4,
 "nbformat_minor": 2
}
